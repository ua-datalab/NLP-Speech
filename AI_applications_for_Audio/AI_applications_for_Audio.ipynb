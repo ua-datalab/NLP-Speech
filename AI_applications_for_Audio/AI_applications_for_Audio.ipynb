{
  "nbformat": 4,
  "nbformat_minor": 0,
  "metadata": {
    "colab": {
      "provenance": [],
      "collapsed_sections": [
        "RHtDLuu65y95"
      ],
      "toc_visible": true,
      "authorship_tag": "ABX9TyPN5614exST0+KBhnKnEoKf",
      "include_colab_link": true
    },
    "kernelspec": {
      "name": "python3",
      "display_name": "Python 3"
    },
    "language_info": {
      "name": "python"
    },
    "widgets": {
      "application/vnd.jupyter.widget-state+json": {
        "1ba8398640de442d96d3546a11ac1bcb": {
          "model_module": "@jupyter-widgets/controls",
          "model_name": "HBoxModel",
          "model_module_version": "1.5.0",
          "state": {
            "_dom_classes": [],
            "_model_module": "@jupyter-widgets/controls",
            "_model_module_version": "1.5.0",
            "_model_name": "HBoxModel",
            "_view_count": null,
            "_view_module": "@jupyter-widgets/controls",
            "_view_module_version": "1.5.0",
            "_view_name": "HBoxView",
            "box_style": "",
            "children": [
              "IPY_MODEL_a6a7e30be0a0406d91c22fdca1592e82",
              "IPY_MODEL_79e655f86051450598ccc9d2a7f62a61",
              "IPY_MODEL_4956c3abe8cd4bb0871253abe1a05577"
            ],
            "layout": "IPY_MODEL_2f18b8210d914d1a9ef5594719084b83"
          }
        },
        "a6a7e30be0a0406d91c22fdca1592e82": {
          "model_module": "@jupyter-widgets/controls",
          "model_name": "HTMLModel",
          "model_module_version": "1.5.0",
          "state": {
            "_dom_classes": [],
            "_model_module": "@jupyter-widgets/controls",
            "_model_module_version": "1.5.0",
            "_model_name": "HTMLModel",
            "_view_count": null,
            "_view_module": "@jupyter-widgets/controls",
            "_view_module_version": "1.5.0",
            "_view_name": "HTMLView",
            "description": "",
            "description_tooltip": null,
            "layout": "IPY_MODEL_4011c6d07b8d4539bea2d5a72b4ebd33",
            "placeholder": "​",
            "style": "IPY_MODEL_9d0e8b324495402982688248830bcfdf",
            "value": "config.json: 100%"
          }
        },
        "79e655f86051450598ccc9d2a7f62a61": {
          "model_module": "@jupyter-widgets/controls",
          "model_name": "FloatProgressModel",
          "model_module_version": "1.5.0",
          "state": {
            "_dom_classes": [],
            "_model_module": "@jupyter-widgets/controls",
            "_model_module_version": "1.5.0",
            "_model_name": "FloatProgressModel",
            "_view_count": null,
            "_view_module": "@jupyter-widgets/controls",
            "_view_module_version": "1.5.0",
            "_view_name": "ProgressView",
            "bar_style": "success",
            "description": "",
            "description_tooltip": null,
            "layout": "IPY_MODEL_d7eb7f6752f64478b1c1f8d63f5772db",
            "max": 7866,
            "min": 0,
            "orientation": "horizontal",
            "style": "IPY_MODEL_8aed2ab2a080446685ae372442a765d9",
            "value": 7866
          }
        },
        "4956c3abe8cd4bb0871253abe1a05577": {
          "model_module": "@jupyter-widgets/controls",
          "model_name": "HTMLModel",
          "model_module_version": "1.5.0",
          "state": {
            "_dom_classes": [],
            "_model_module": "@jupyter-widgets/controls",
            "_model_module_version": "1.5.0",
            "_model_name": "HTMLModel",
            "_view_count": null,
            "_view_module": "@jupyter-widgets/controls",
            "_view_module_version": "1.5.0",
            "_view_name": "HTMLView",
            "description": "",
            "description_tooltip": null,
            "layout": "IPY_MODEL_5ffe32bc67834589aebae1ff602554e2",
            "placeholder": "​",
            "style": "IPY_MODEL_4cabee38eb1646afa38f51162b94a32b",
            "value": " 7.87k/7.87k [00:00&lt;00:00, 166kB/s]"
          }
        },
        "2f18b8210d914d1a9ef5594719084b83": {
          "model_module": "@jupyter-widgets/base",
          "model_name": "LayoutModel",
          "model_module_version": "1.2.0",
          "state": {
            "_model_module": "@jupyter-widgets/base",
            "_model_module_version": "1.2.0",
            "_model_name": "LayoutModel",
            "_view_count": null,
            "_view_module": "@jupyter-widgets/base",
            "_view_module_version": "1.2.0",
            "_view_name": "LayoutView",
            "align_content": null,
            "align_items": null,
            "align_self": null,
            "border": null,
            "bottom": null,
            "display": null,
            "flex": null,
            "flex_flow": null,
            "grid_area": null,
            "grid_auto_columns": null,
            "grid_auto_flow": null,
            "grid_auto_rows": null,
            "grid_column": null,
            "grid_gap": null,
            "grid_row": null,
            "grid_template_areas": null,
            "grid_template_columns": null,
            "grid_template_rows": null,
            "height": null,
            "justify_content": null,
            "justify_items": null,
            "left": null,
            "margin": null,
            "max_height": null,
            "max_width": null,
            "min_height": null,
            "min_width": null,
            "object_fit": null,
            "object_position": null,
            "order": null,
            "overflow": null,
            "overflow_x": null,
            "overflow_y": null,
            "padding": null,
            "right": null,
            "top": null,
            "visibility": null,
            "width": null
          }
        },
        "4011c6d07b8d4539bea2d5a72b4ebd33": {
          "model_module": "@jupyter-widgets/base",
          "model_name": "LayoutModel",
          "model_module_version": "1.2.0",
          "state": {
            "_model_module": "@jupyter-widgets/base",
            "_model_module_version": "1.2.0",
            "_model_name": "LayoutModel",
            "_view_count": null,
            "_view_module": "@jupyter-widgets/base",
            "_view_module_version": "1.2.0",
            "_view_name": "LayoutView",
            "align_content": null,
            "align_items": null,
            "align_self": null,
            "border": null,
            "bottom": null,
            "display": null,
            "flex": null,
            "flex_flow": null,
            "grid_area": null,
            "grid_auto_columns": null,
            "grid_auto_flow": null,
            "grid_auto_rows": null,
            "grid_column": null,
            "grid_gap": null,
            "grid_row": null,
            "grid_template_areas": null,
            "grid_template_columns": null,
            "grid_template_rows": null,
            "height": null,
            "justify_content": null,
            "justify_items": null,
            "left": null,
            "margin": null,
            "max_height": null,
            "max_width": null,
            "min_height": null,
            "min_width": null,
            "object_fit": null,
            "object_position": null,
            "order": null,
            "overflow": null,
            "overflow_x": null,
            "overflow_y": null,
            "padding": null,
            "right": null,
            "top": null,
            "visibility": null,
            "width": null
          }
        },
        "9d0e8b324495402982688248830bcfdf": {
          "model_module": "@jupyter-widgets/controls",
          "model_name": "DescriptionStyleModel",
          "model_module_version": "1.5.0",
          "state": {
            "_model_module": "@jupyter-widgets/controls",
            "_model_module_version": "1.5.0",
            "_model_name": "DescriptionStyleModel",
            "_view_count": null,
            "_view_module": "@jupyter-widgets/base",
            "_view_module_version": "1.2.0",
            "_view_name": "StyleView",
            "description_width": ""
          }
        },
        "d7eb7f6752f64478b1c1f8d63f5772db": {
          "model_module": "@jupyter-widgets/base",
          "model_name": "LayoutModel",
          "model_module_version": "1.2.0",
          "state": {
            "_model_module": "@jupyter-widgets/base",
            "_model_module_version": "1.2.0",
            "_model_name": "LayoutModel",
            "_view_count": null,
            "_view_module": "@jupyter-widgets/base",
            "_view_module_version": "1.2.0",
            "_view_name": "LayoutView",
            "align_content": null,
            "align_items": null,
            "align_self": null,
            "border": null,
            "bottom": null,
            "display": null,
            "flex": null,
            "flex_flow": null,
            "grid_area": null,
            "grid_auto_columns": null,
            "grid_auto_flow": null,
            "grid_auto_rows": null,
            "grid_column": null,
            "grid_gap": null,
            "grid_row": null,
            "grid_template_areas": null,
            "grid_template_columns": null,
            "grid_template_rows": null,
            "height": null,
            "justify_content": null,
            "justify_items": null,
            "left": null,
            "margin": null,
            "max_height": null,
            "max_width": null,
            "min_height": null,
            "min_width": null,
            "object_fit": null,
            "object_position": null,
            "order": null,
            "overflow": null,
            "overflow_x": null,
            "overflow_y": null,
            "padding": null,
            "right": null,
            "top": null,
            "visibility": null,
            "width": null
          }
        },
        "8aed2ab2a080446685ae372442a765d9": {
          "model_module": "@jupyter-widgets/controls",
          "model_name": "ProgressStyleModel",
          "model_module_version": "1.5.0",
          "state": {
            "_model_module": "@jupyter-widgets/controls",
            "_model_module_version": "1.5.0",
            "_model_name": "ProgressStyleModel",
            "_view_count": null,
            "_view_module": "@jupyter-widgets/base",
            "_view_module_version": "1.2.0",
            "_view_name": "StyleView",
            "bar_color": null,
            "description_width": ""
          }
        },
        "5ffe32bc67834589aebae1ff602554e2": {
          "model_module": "@jupyter-widgets/base",
          "model_name": "LayoutModel",
          "model_module_version": "1.2.0",
          "state": {
            "_model_module": "@jupyter-widgets/base",
            "_model_module_version": "1.2.0",
            "_model_name": "LayoutModel",
            "_view_count": null,
            "_view_module": "@jupyter-widgets/base",
            "_view_module_version": "1.2.0",
            "_view_name": "LayoutView",
            "align_content": null,
            "align_items": null,
            "align_self": null,
            "border": null,
            "bottom": null,
            "display": null,
            "flex": null,
            "flex_flow": null,
            "grid_area": null,
            "grid_auto_columns": null,
            "grid_auto_flow": null,
            "grid_auto_rows": null,
            "grid_column": null,
            "grid_gap": null,
            "grid_row": null,
            "grid_template_areas": null,
            "grid_template_columns": null,
            "grid_template_rows": null,
            "height": null,
            "justify_content": null,
            "justify_items": null,
            "left": null,
            "margin": null,
            "max_height": null,
            "max_width": null,
            "min_height": null,
            "min_width": null,
            "object_fit": null,
            "object_position": null,
            "order": null,
            "overflow": null,
            "overflow_x": null,
            "overflow_y": null,
            "padding": null,
            "right": null,
            "top": null,
            "visibility": null,
            "width": null
          }
        },
        "4cabee38eb1646afa38f51162b94a32b": {
          "model_module": "@jupyter-widgets/controls",
          "model_name": "DescriptionStyleModel",
          "model_module_version": "1.5.0",
          "state": {
            "_model_module": "@jupyter-widgets/controls",
            "_model_module_version": "1.5.0",
            "_model_name": "DescriptionStyleModel",
            "_view_count": null,
            "_view_module": "@jupyter-widgets/base",
            "_view_module_version": "1.2.0",
            "_view_name": "StyleView",
            "description_width": ""
          }
        },
        "9885be60c0874f76af62c0e3dea2a6be": {
          "model_module": "@jupyter-widgets/controls",
          "model_name": "HBoxModel",
          "model_module_version": "1.5.0",
          "state": {
            "_dom_classes": [],
            "_model_module": "@jupyter-widgets/controls",
            "_model_module_version": "1.5.0",
            "_model_name": "HBoxModel",
            "_view_count": null,
            "_view_module": "@jupyter-widgets/controls",
            "_view_module_version": "1.5.0",
            "_view_name": "HBoxView",
            "box_style": "",
            "children": [
              "IPY_MODEL_53f1c458dae84e1ea8fc9729ccc50e90",
              "IPY_MODEL_d7e1cc6fcd8547368ad9fe749dada2d6",
              "IPY_MODEL_322cd8ea14294639b8f2a4a92b943c4a"
            ],
            "layout": "IPY_MODEL_bd7b279d5ead4526813fa33325fd5390"
          }
        },
        "53f1c458dae84e1ea8fc9729ccc50e90": {
          "model_module": "@jupyter-widgets/controls",
          "model_name": "HTMLModel",
          "model_module_version": "1.5.0",
          "state": {
            "_dom_classes": [],
            "_model_module": "@jupyter-widgets/controls",
            "_model_module_version": "1.5.0",
            "_model_name": "HTMLModel",
            "_view_count": null,
            "_view_module": "@jupyter-widgets/controls",
            "_view_module_version": "1.5.0",
            "_view_name": "HTMLView",
            "description": "",
            "description_tooltip": null,
            "layout": "IPY_MODEL_332798dab47f47e58a14cb67d5096e43",
            "placeholder": "​",
            "style": "IPY_MODEL_c67215ef16d14c479e05b00a088014b7",
            "value": "model.safetensors: 100%"
          }
        },
        "d7e1cc6fcd8547368ad9fe749dada2d6": {
          "model_module": "@jupyter-widgets/controls",
          "model_name": "FloatProgressModel",
          "model_module_version": "1.5.0",
          "state": {
            "_dom_classes": [],
            "_model_module": "@jupyter-widgets/controls",
            "_model_module_version": "1.5.0",
            "_model_name": "FloatProgressModel",
            "_view_count": null,
            "_view_module": "@jupyter-widgets/controls",
            "_view_module_version": "1.5.0",
            "_view_name": "ProgressView",
            "bar_style": "success",
            "description": "",
            "description_tooltip": null,
            "layout": "IPY_MODEL_a667a7f232a8498dbcab444b969c9bb3",
            "max": 2364427288,
            "min": 0,
            "orientation": "horizontal",
            "style": "IPY_MODEL_f7492e87e5e7446f9e2f936bb5fe2b6f",
            "value": 2364427288
          }
        },
        "322cd8ea14294639b8f2a4a92b943c4a": {
          "model_module": "@jupyter-widgets/controls",
          "model_name": "HTMLModel",
          "model_module_version": "1.5.0",
          "state": {
            "_dom_classes": [],
            "_model_module": "@jupyter-widgets/controls",
            "_model_module_version": "1.5.0",
            "_model_name": "HTMLModel",
            "_view_count": null,
            "_view_module": "@jupyter-widgets/controls",
            "_view_module_version": "1.5.0",
            "_view_name": "HTMLView",
            "description": "",
            "description_tooltip": null,
            "layout": "IPY_MODEL_32d990d955bc4dd1ae3c6c6dd3e1bf00",
            "placeholder": "​",
            "style": "IPY_MODEL_bba23f28f38d48029cf050a0dfa78983",
            "value": " 2.36G/2.36G [00:16&lt;00:00, 242MB/s]"
          }
        },
        "bd7b279d5ead4526813fa33325fd5390": {
          "model_module": "@jupyter-widgets/base",
          "model_name": "LayoutModel",
          "model_module_version": "1.2.0",
          "state": {
            "_model_module": "@jupyter-widgets/base",
            "_model_module_version": "1.2.0",
            "_model_name": "LayoutModel",
            "_view_count": null,
            "_view_module": "@jupyter-widgets/base",
            "_view_module_version": "1.2.0",
            "_view_name": "LayoutView",
            "align_content": null,
            "align_items": null,
            "align_self": null,
            "border": null,
            "bottom": null,
            "display": null,
            "flex": null,
            "flex_flow": null,
            "grid_area": null,
            "grid_auto_columns": null,
            "grid_auto_flow": null,
            "grid_auto_rows": null,
            "grid_column": null,
            "grid_gap": null,
            "grid_row": null,
            "grid_template_areas": null,
            "grid_template_columns": null,
            "grid_template_rows": null,
            "height": null,
            "justify_content": null,
            "justify_items": null,
            "left": null,
            "margin": null,
            "max_height": null,
            "max_width": null,
            "min_height": null,
            "min_width": null,
            "object_fit": null,
            "object_position": null,
            "order": null,
            "overflow": null,
            "overflow_x": null,
            "overflow_y": null,
            "padding": null,
            "right": null,
            "top": null,
            "visibility": null,
            "width": null
          }
        },
        "332798dab47f47e58a14cb67d5096e43": {
          "model_module": "@jupyter-widgets/base",
          "model_name": "LayoutModel",
          "model_module_version": "1.2.0",
          "state": {
            "_model_module": "@jupyter-widgets/base",
            "_model_module_version": "1.2.0",
            "_model_name": "LayoutModel",
            "_view_count": null,
            "_view_module": "@jupyter-widgets/base",
            "_view_module_version": "1.2.0",
            "_view_name": "LayoutView",
            "align_content": null,
            "align_items": null,
            "align_self": null,
            "border": null,
            "bottom": null,
            "display": null,
            "flex": null,
            "flex_flow": null,
            "grid_area": null,
            "grid_auto_columns": null,
            "grid_auto_flow": null,
            "grid_auto_rows": null,
            "grid_column": null,
            "grid_gap": null,
            "grid_row": null,
            "grid_template_areas": null,
            "grid_template_columns": null,
            "grid_template_rows": null,
            "height": null,
            "justify_content": null,
            "justify_items": null,
            "left": null,
            "margin": null,
            "max_height": null,
            "max_width": null,
            "min_height": null,
            "min_width": null,
            "object_fit": null,
            "object_position": null,
            "order": null,
            "overflow": null,
            "overflow_x": null,
            "overflow_y": null,
            "padding": null,
            "right": null,
            "top": null,
            "visibility": null,
            "width": null
          }
        },
        "c67215ef16d14c479e05b00a088014b7": {
          "model_module": "@jupyter-widgets/controls",
          "model_name": "DescriptionStyleModel",
          "model_module_version": "1.5.0",
          "state": {
            "_model_module": "@jupyter-widgets/controls",
            "_model_module_version": "1.5.0",
            "_model_name": "DescriptionStyleModel",
            "_view_count": null,
            "_view_module": "@jupyter-widgets/base",
            "_view_module_version": "1.2.0",
            "_view_name": "StyleView",
            "description_width": ""
          }
        },
        "a667a7f232a8498dbcab444b969c9bb3": {
          "model_module": "@jupyter-widgets/base",
          "model_name": "LayoutModel",
          "model_module_version": "1.2.0",
          "state": {
            "_model_module": "@jupyter-widgets/base",
            "_model_module_version": "1.2.0",
            "_model_name": "LayoutModel",
            "_view_count": null,
            "_view_module": "@jupyter-widgets/base",
            "_view_module_version": "1.2.0",
            "_view_name": "LayoutView",
            "align_content": null,
            "align_items": null,
            "align_self": null,
            "border": null,
            "bottom": null,
            "display": null,
            "flex": null,
            "flex_flow": null,
            "grid_area": null,
            "grid_auto_columns": null,
            "grid_auto_flow": null,
            "grid_auto_rows": null,
            "grid_column": null,
            "grid_gap": null,
            "grid_row": null,
            "grid_template_areas": null,
            "grid_template_columns": null,
            "grid_template_rows": null,
            "height": null,
            "justify_content": null,
            "justify_items": null,
            "left": null,
            "margin": null,
            "max_height": null,
            "max_width": null,
            "min_height": null,
            "min_width": null,
            "object_fit": null,
            "object_position": null,
            "order": null,
            "overflow": null,
            "overflow_x": null,
            "overflow_y": null,
            "padding": null,
            "right": null,
            "top": null,
            "visibility": null,
            "width": null
          }
        },
        "f7492e87e5e7446f9e2f936bb5fe2b6f": {
          "model_module": "@jupyter-widgets/controls",
          "model_name": "ProgressStyleModel",
          "model_module_version": "1.5.0",
          "state": {
            "_model_module": "@jupyter-widgets/controls",
            "_model_module_version": "1.5.0",
            "_model_name": "ProgressStyleModel",
            "_view_count": null,
            "_view_module": "@jupyter-widgets/base",
            "_view_module_version": "1.2.0",
            "_view_name": "StyleView",
            "bar_color": null,
            "description_width": ""
          }
        },
        "32d990d955bc4dd1ae3c6c6dd3e1bf00": {
          "model_module": "@jupyter-widgets/base",
          "model_name": "LayoutModel",
          "model_module_version": "1.2.0",
          "state": {
            "_model_module": "@jupyter-widgets/base",
            "_model_module_version": "1.2.0",
            "_model_name": "LayoutModel",
            "_view_count": null,
            "_view_module": "@jupyter-widgets/base",
            "_view_module_version": "1.2.0",
            "_view_name": "LayoutView",
            "align_content": null,
            "align_items": null,
            "align_self": null,
            "border": null,
            "bottom": null,
            "display": null,
            "flex": null,
            "flex_flow": null,
            "grid_area": null,
            "grid_auto_columns": null,
            "grid_auto_flow": null,
            "grid_auto_rows": null,
            "grid_column": null,
            "grid_gap": null,
            "grid_row": null,
            "grid_template_areas": null,
            "grid_template_columns": null,
            "grid_template_rows": null,
            "height": null,
            "justify_content": null,
            "justify_items": null,
            "left": null,
            "margin": null,
            "max_height": null,
            "max_width": null,
            "min_height": null,
            "min_width": null,
            "object_fit": null,
            "object_position": null,
            "order": null,
            "overflow": null,
            "overflow_x": null,
            "overflow_y": null,
            "padding": null,
            "right": null,
            "top": null,
            "visibility": null,
            "width": null
          }
        },
        "bba23f28f38d48029cf050a0dfa78983": {
          "model_module": "@jupyter-widgets/controls",
          "model_name": "DescriptionStyleModel",
          "model_module_version": "1.5.0",
          "state": {
            "_model_module": "@jupyter-widgets/controls",
            "_model_module_version": "1.5.0",
            "_model_name": "DescriptionStyleModel",
            "_view_count": null,
            "_view_module": "@jupyter-widgets/base",
            "_view_module_version": "1.2.0",
            "_view_name": "StyleView",
            "description_width": ""
          }
        },
        "e35eb5cf99d248fa9fd99364f59fc494": {
          "model_module": "@jupyter-widgets/controls",
          "model_name": "HBoxModel",
          "model_module_version": "1.5.0",
          "state": {
            "_dom_classes": [],
            "_model_module": "@jupyter-widgets/controls",
            "_model_module_version": "1.5.0",
            "_model_name": "HBoxModel",
            "_view_count": null,
            "_view_module": "@jupyter-widgets/controls",
            "_view_module_version": "1.5.0",
            "_view_name": "HBoxView",
            "box_style": "",
            "children": [
              "IPY_MODEL_116d955bf55d4fa494eecefa22f716ee",
              "IPY_MODEL_4044ea83574a450b835ae326f95225b8",
              "IPY_MODEL_5e60d3234e664d838b723eeb840fa2ef"
            ],
            "layout": "IPY_MODEL_a7ea61fd5a9c4fd391029fcdd2914384"
          }
        },
        "116d955bf55d4fa494eecefa22f716ee": {
          "model_module": "@jupyter-widgets/controls",
          "model_name": "HTMLModel",
          "model_module_version": "1.5.0",
          "state": {
            "_dom_classes": [],
            "_model_module": "@jupyter-widgets/controls",
            "_model_module_version": "1.5.0",
            "_model_name": "HTMLModel",
            "_view_count": null,
            "_view_module": "@jupyter-widgets/controls",
            "_view_module_version": "1.5.0",
            "_view_name": "HTMLView",
            "description": "",
            "description_tooltip": null,
            "layout": "IPY_MODEL_b12d62b32eea49279ef956657eb29dc4",
            "placeholder": "​",
            "style": "IPY_MODEL_9fdde99554c947498ca74c0d8f72185d",
            "value": "generation_config.json: 100%"
          }
        },
        "4044ea83574a450b835ae326f95225b8": {
          "model_module": "@jupyter-widgets/controls",
          "model_name": "FloatProgressModel",
          "model_module_version": "1.5.0",
          "state": {
            "_dom_classes": [],
            "_model_module": "@jupyter-widgets/controls",
            "_model_module_version": "1.5.0",
            "_model_name": "FloatProgressModel",
            "_view_count": null,
            "_view_module": "@jupyter-widgets/controls",
            "_view_module_version": "1.5.0",
            "_view_name": "ProgressView",
            "bar_style": "success",
            "description": "",
            "description_tooltip": null,
            "layout": "IPY_MODEL_52720746774941a38e804f44b52e7c05",
            "max": 224,
            "min": 0,
            "orientation": "horizontal",
            "style": "IPY_MODEL_847cf15ca5ab4465a3858487c2fa5888",
            "value": 224
          }
        },
        "5e60d3234e664d838b723eeb840fa2ef": {
          "model_module": "@jupyter-widgets/controls",
          "model_name": "HTMLModel",
          "model_module_version": "1.5.0",
          "state": {
            "_dom_classes": [],
            "_model_module": "@jupyter-widgets/controls",
            "_model_module_version": "1.5.0",
            "_model_name": "HTMLModel",
            "_view_count": null,
            "_view_module": "@jupyter-widgets/controls",
            "_view_module_version": "1.5.0",
            "_view_name": "HTMLView",
            "description": "",
            "description_tooltip": null,
            "layout": "IPY_MODEL_de8873b9c2b64ffcb94828aedc0d960f",
            "placeholder": "​",
            "style": "IPY_MODEL_19447ddeade6487a89397a42b286c08a",
            "value": " 224/224 [00:00&lt;00:00, 5.55kB/s]"
          }
        },
        "a7ea61fd5a9c4fd391029fcdd2914384": {
          "model_module": "@jupyter-widgets/base",
          "model_name": "LayoutModel",
          "model_module_version": "1.2.0",
          "state": {
            "_model_module": "@jupyter-widgets/base",
            "_model_module_version": "1.2.0",
            "_model_name": "LayoutModel",
            "_view_count": null,
            "_view_module": "@jupyter-widgets/base",
            "_view_module_version": "1.2.0",
            "_view_name": "LayoutView",
            "align_content": null,
            "align_items": null,
            "align_self": null,
            "border": null,
            "bottom": null,
            "display": null,
            "flex": null,
            "flex_flow": null,
            "grid_area": null,
            "grid_auto_columns": null,
            "grid_auto_flow": null,
            "grid_auto_rows": null,
            "grid_column": null,
            "grid_gap": null,
            "grid_row": null,
            "grid_template_areas": null,
            "grid_template_columns": null,
            "grid_template_rows": null,
            "height": null,
            "justify_content": null,
            "justify_items": null,
            "left": null,
            "margin": null,
            "max_height": null,
            "max_width": null,
            "min_height": null,
            "min_width": null,
            "object_fit": null,
            "object_position": null,
            "order": null,
            "overflow": null,
            "overflow_x": null,
            "overflow_y": null,
            "padding": null,
            "right": null,
            "top": null,
            "visibility": null,
            "width": null
          }
        },
        "b12d62b32eea49279ef956657eb29dc4": {
          "model_module": "@jupyter-widgets/base",
          "model_name": "LayoutModel",
          "model_module_version": "1.2.0",
          "state": {
            "_model_module": "@jupyter-widgets/base",
            "_model_module_version": "1.2.0",
            "_model_name": "LayoutModel",
            "_view_count": null,
            "_view_module": "@jupyter-widgets/base",
            "_view_module_version": "1.2.0",
            "_view_name": "LayoutView",
            "align_content": null,
            "align_items": null,
            "align_self": null,
            "border": null,
            "bottom": null,
            "display": null,
            "flex": null,
            "flex_flow": null,
            "grid_area": null,
            "grid_auto_columns": null,
            "grid_auto_flow": null,
            "grid_auto_rows": null,
            "grid_column": null,
            "grid_gap": null,
            "grid_row": null,
            "grid_template_areas": null,
            "grid_template_columns": null,
            "grid_template_rows": null,
            "height": null,
            "justify_content": null,
            "justify_items": null,
            "left": null,
            "margin": null,
            "max_height": null,
            "max_width": null,
            "min_height": null,
            "min_width": null,
            "object_fit": null,
            "object_position": null,
            "order": null,
            "overflow": null,
            "overflow_x": null,
            "overflow_y": null,
            "padding": null,
            "right": null,
            "top": null,
            "visibility": null,
            "width": null
          }
        },
        "9fdde99554c947498ca74c0d8f72185d": {
          "model_module": "@jupyter-widgets/controls",
          "model_name": "DescriptionStyleModel",
          "model_module_version": "1.5.0",
          "state": {
            "_model_module": "@jupyter-widgets/controls",
            "_model_module_version": "1.5.0",
            "_model_name": "DescriptionStyleModel",
            "_view_count": null,
            "_view_module": "@jupyter-widgets/base",
            "_view_module_version": "1.2.0",
            "_view_name": "StyleView",
            "description_width": ""
          }
        },
        "52720746774941a38e804f44b52e7c05": {
          "model_module": "@jupyter-widgets/base",
          "model_name": "LayoutModel",
          "model_module_version": "1.2.0",
          "state": {
            "_model_module": "@jupyter-widgets/base",
            "_model_module_version": "1.2.0",
            "_model_name": "LayoutModel",
            "_view_count": null,
            "_view_module": "@jupyter-widgets/base",
            "_view_module_version": "1.2.0",
            "_view_name": "LayoutView",
            "align_content": null,
            "align_items": null,
            "align_self": null,
            "border": null,
            "bottom": null,
            "display": null,
            "flex": null,
            "flex_flow": null,
            "grid_area": null,
            "grid_auto_columns": null,
            "grid_auto_flow": null,
            "grid_auto_rows": null,
            "grid_column": null,
            "grid_gap": null,
            "grid_row": null,
            "grid_template_areas": null,
            "grid_template_columns": null,
            "grid_template_rows": null,
            "height": null,
            "justify_content": null,
            "justify_items": null,
            "left": null,
            "margin": null,
            "max_height": null,
            "max_width": null,
            "min_height": null,
            "min_width": null,
            "object_fit": null,
            "object_position": null,
            "order": null,
            "overflow": null,
            "overflow_x": null,
            "overflow_y": null,
            "padding": null,
            "right": null,
            "top": null,
            "visibility": null,
            "width": null
          }
        },
        "847cf15ca5ab4465a3858487c2fa5888": {
          "model_module": "@jupyter-widgets/controls",
          "model_name": "ProgressStyleModel",
          "model_module_version": "1.5.0",
          "state": {
            "_model_module": "@jupyter-widgets/controls",
            "_model_module_version": "1.5.0",
            "_model_name": "ProgressStyleModel",
            "_view_count": null,
            "_view_module": "@jupyter-widgets/base",
            "_view_module_version": "1.2.0",
            "_view_name": "StyleView",
            "bar_color": null,
            "description_width": ""
          }
        },
        "de8873b9c2b64ffcb94828aedc0d960f": {
          "model_module": "@jupyter-widgets/base",
          "model_name": "LayoutModel",
          "model_module_version": "1.2.0",
          "state": {
            "_model_module": "@jupyter-widgets/base",
            "_model_module_version": "1.2.0",
            "_model_name": "LayoutModel",
            "_view_count": null,
            "_view_module": "@jupyter-widgets/base",
            "_view_module_version": "1.2.0",
            "_view_name": "LayoutView",
            "align_content": null,
            "align_items": null,
            "align_self": null,
            "border": null,
            "bottom": null,
            "display": null,
            "flex": null,
            "flex_flow": null,
            "grid_area": null,
            "grid_auto_columns": null,
            "grid_auto_flow": null,
            "grid_auto_rows": null,
            "grid_column": null,
            "grid_gap": null,
            "grid_row": null,
            "grid_template_areas": null,
            "grid_template_columns": null,
            "grid_template_rows": null,
            "height": null,
            "justify_content": null,
            "justify_items": null,
            "left": null,
            "margin": null,
            "max_height": null,
            "max_width": null,
            "min_height": null,
            "min_width": null,
            "object_fit": null,
            "object_position": null,
            "order": null,
            "overflow": null,
            "overflow_x": null,
            "overflow_y": null,
            "padding": null,
            "right": null,
            "top": null,
            "visibility": null,
            "width": null
          }
        },
        "19447ddeade6487a89397a42b286c08a": {
          "model_module": "@jupyter-widgets/controls",
          "model_name": "DescriptionStyleModel",
          "model_module_version": "1.5.0",
          "state": {
            "_model_module": "@jupyter-widgets/controls",
            "_model_module_version": "1.5.0",
            "_model_name": "DescriptionStyleModel",
            "_view_count": null,
            "_view_module": "@jupyter-widgets/base",
            "_view_module_version": "1.2.0",
            "_view_name": "StyleView",
            "description_width": ""
          }
        }
      }
    }
  },
  "cells": [
    {
      "cell_type": "markdown",
      "metadata": {
        "id": "view-in-github",
        "colab_type": "text"
      },
      "source": [
        "<a href=\"https://colab.research.google.com/github/ua-datalab/NLP-Speech/blob/main/AI_applications_for_Audio/AI_applications_for_Audio.ipynb\" target=\"_parent\"><img src=\"https://colab.research.google.com/assets/colab-badge.svg\" alt=\"Open In Colab\"/></a>"
      ]
    },
    {
      "cell_type": "markdown",
      "source": [
        "# AI applications for Audio"
      ],
      "metadata": {
        "id": "wX34gHmJRDBD"
      }
    },
    {
      "cell_type": "markdown",
      "source": [
        "![](https://content.cleanvoice.ai/uploads/large_Copy_of_Add_a_heading_6_1_39ab1d9f83.png)\n",
        "\n",
        "Source: [content.cleanvoice.ai](https://content.cleanvoice.ai/uploads/large_Copy_of_Add_a_heading_6_1_39ab1d9f83.png)"
      ],
      "metadata": {
        "id": "RDx-hYeaRmuT"
      }
    },
    {
      "cell_type": "markdown",
      "source": [
        "## Housekeeping\n",
        "\n",
        "* Check that the recording is on\n",
        "* Check audio and screenshare\n",
        "* Share link to notebook in chat\n",
        "* Light mode and readable font size\n",
        "* GPU runtime and `run-all`"
      ],
      "metadata": {
        "id": "yEPSDD7jRG3b"
      }
    },
    {
      "cell_type": "markdown",
      "source": [
        "Description of audio AI systems.\n",
        "\n",
        "Use cases, platforms, use-cases"
      ],
      "metadata": {
        "id": "tP3AyOIvRHJn"
      }
    },
    {
      "cell_type": "markdown",
      "source": [
        "# Basic Audio Tools"
      ],
      "metadata": {
        "id": "0V3TECtvGECD"
      }
    },
    {
      "cell_type": "markdown",
      "source": [
        "## Converting between audio formats with **ffmpeg**"
      ],
      "metadata": {
        "id": "yeZ21gyPRHV6"
      }
    },
    {
      "cell_type": "code",
      "source": [
        "# Tools for processing audio files:\n",
        "!apt install ffmpeg"
      ],
      "metadata": {
        "id": "cse6Ym0DBKee"
      },
      "execution_count": null,
      "outputs": []
    },
    {
      "cell_type": "code",
      "source": [
        "# Get some audio files\n",
        "!wget -O mary.mp3 https://raw.githubusercontent.com/petewarden/openai-whisper-webapp/main/mary.mp3\n",
        "!wget -O daisy_HAL_9000.mp3 https://raw.githubusercontent.com/petewarden/openai-whisper-webapp/main/daisy_HAL_9000.mp3\n",
        "!wget -O AllStar.mp3 https://raw.githubusercontent.com/keatonkraiger/Whisper-Transcribe-and-Translate-Tutorial/main/AllStar.mp3\n",
        "!wget -O Cupid_Fifty_Fifty_Korean_Version.mp3 https://raw.githubusercontent.com/keatonkraiger/Whisper-Transcribe-and-Translate-Tutorial/main/Cupid_Fifty_Fifty_Korean_Version.mp3\n"
      ],
      "metadata": {
        "id": "17nhmikfBQl4"
      },
      "execution_count": null,
      "outputs": []
    },
    {
      "cell_type": "code",
      "source": [
        "# Convert format:\n",
        "!ffmpeg -i mary.mp3 mary.wav"
      ],
      "metadata": {
        "id": "iwDrwKQzBQpK"
      },
      "execution_count": null,
      "outputs": []
    },
    {
      "cell_type": "code",
      "source": [
        "from IPython.display import Audio\n",
        "Audio(\"/content/mary.wav\")"
      ],
      "metadata": {
        "id": "-JGmvwtCauid"
      },
      "execution_count": null,
      "outputs": []
    },
    {
      "cell_type": "code",
      "source": [
        "# change the volume of an audio file\n",
        "!ffmpeg -i AllStar.mp3 -af 'volume=0.5' AllStar_edited.mp3"
      ],
      "metadata": {
        "id": "7w5o0I0IBTwS"
      },
      "execution_count": null,
      "outputs": []
    },
    {
      "cell_type": "code",
      "source": [
        "from IPython.display import Audio\n",
        "Audio(\"/content/AllStar_edited.mp3\")"
      ],
      "metadata": {
        "id": "FeWmzID0awv6"
      },
      "execution_count": null,
      "outputs": []
    },
    {
      "cell_type": "code",
      "source": [
        "# Compress audio\n",
        "!ffmpeg -i AllStar.mp3 -ab 128 AllStar_edited.mp3"
      ],
      "metadata": {
        "id": "aeZRtBVLa2uv"
      },
      "execution_count": null,
      "outputs": []
    },
    {
      "cell_type": "code",
      "source": [
        "from IPython.display import Audio\n",
        "Audio(\"/content/AllStar_edited.mp3\")"
      ],
      "metadata": {
        "id": "HYPO-ma3bC7Z"
      },
      "execution_count": null,
      "outputs": []
    },
    {
      "cell_type": "code",
      "source": [
        "# trim audio\n",
        "!ffmpeg -i Cupid_Fifty_Fifty_Korean_Version.mp3 \\\n",
        " -ss 00:01:54 -to 00:06:53 \\\n",
        " -c copy Cupid_Fifty_Fifty_Korean_Version_edited.mp3"
      ],
      "metadata": {
        "id": "4TciRSPibO6P"
      },
      "execution_count": null,
      "outputs": []
    },
    {
      "cell_type": "code",
      "source": [
        "from IPython.display import Audio\n",
        "Audio(\"/content/Cupid_Fifty_Fifty_Korean_Version.mp3\")"
      ],
      "metadata": {
        "id": "xaatyL0hbrhA"
      },
      "execution_count": null,
      "outputs": []
    },
    {
      "cell_type": "code",
      "source": [
        "# Split audio file\n",
        "! ffmpeg -i Cupid_Fifty_Fifty_Korean_Version.mp3\\\n",
        " -t 00:00:30 -c copy Cupid_Fifty_Fifty_Korean_Version_part1.mp4\n",
        " -ss 00:00:30 -codec copy Cupid_Fifty_Fifty_Korean_Version_part2.mp4\n"
      ],
      "metadata": {
        "id": "H5llo7ymbr4G"
      },
      "execution_count": null,
      "outputs": []
    },
    {
      "cell_type": "code",
      "source": [
        "from IPython.display import Audio\n",
        "Audio(\"/content/Cupid_Fifty_Fifty_Korean_Version_part1.mp3\")"
      ],
      "metadata": {
        "id": "Hvvh5ycVcAi4"
      },
      "execution_count": null,
      "outputs": []
    },
    {
      "cell_type": "markdown",
      "source": [
        "## Generating audio chord progressions in Python"
      ],
      "metadata": {
        "id": "nBy2b8bWFh7p"
      }
    },
    {
      "cell_type": "markdown",
      "source": [
        "ToDo: explain MIDI format"
      ],
      "metadata": {
        "id": "QkSpXXV2cQw-"
      }
    },
    {
      "cell_type": "code",
      "source": [
        "!pip install mido"
      ],
      "metadata": {
        "colab": {
          "base_uri": "https://localhost:8080/"
        },
        "id": "hTHREcnh6NOX",
        "outputId": "7f615f04-5eab-410a-db95-f743816eb38b"
      },
      "execution_count": null,
      "outputs": [
        {
          "output_type": "stream",
          "name": "stdout",
          "text": [
            "Collecting mido\n",
            "  Downloading mido-1.3.3-py3-none-any.whl.metadata (6.4 kB)\n",
            "Requirement already satisfied: packaging in /usr/local/lib/python3.11/dist-packages (from mido) (24.2)\n",
            "Downloading mido-1.3.3-py3-none-any.whl (54 kB)\n",
            "\u001b[?25l   \u001b[90m━━━━━━━━━━━━━━━━━━━━━━━━━━━━━━━━━━━━━━━━\u001b[0m \u001b[32m0.0/54.6 kB\u001b[0m \u001b[31m?\u001b[0m eta \u001b[36m-:--:--\u001b[0m\r\u001b[2K   \u001b[90m━━━━━━━━━━━━━━━━━━━━━━━━━━━━━━━━━━━━━━━━\u001b[0m \u001b[32m54.6/54.6 kB\u001b[0m \u001b[31m2.1 MB/s\u001b[0m eta \u001b[36m0:00:00\u001b[0m\n",
            "\u001b[?25hInstalling collected packages: mido\n",
            "Successfully installed mido-1.3.3\n"
          ]
        }
      ]
    },
    {
      "cell_type": "code",
      "source": [
        "# Function to get chord notes in root position\n",
        "def get_chord_notes(chord):\n",
        "    chord_map = {\n",
        "        \"C\": [0, 4, 7], \"Cm\": [0, 3, 7],\n",
        "        \"D\": [2, 6, 9], \"Dm\": [2, 5, 9],\n",
        "        \"E\": [4, 8, 11], \"Em\": [4, 7, 11],\n",
        "        \"F\": [5, 9, 12], \"Fm\": [5, 8, 12],\n",
        "        \"G\": [7, 11, 14], \"Gm\": [7, 10, 14],\n",
        "        \"A\": [9, 13, 16], \"Am\": [9, 12, 16],\n",
        "        \"B\": [11, 15, 18], \"Bm\": [11, 14, 18]\n",
        "    }\n",
        "\n",
        "    root = 48  # Starting at C3\n",
        "    if chord in chord_map:\n",
        "        return [root + interval for interval in chord_map[chord]]\n",
        "    else:\n",
        "        raise ValueError(f\"Unknown chord: {chord}\")\n"
      ],
      "metadata": {
        "id": "OMvy6B2y782S"
      },
      "execution_count": null,
      "outputs": []
    },
    {
      "cell_type": "code",
      "source": [
        "# User-provided chord progression\n",
        "# Modify this to change progression\n",
        "user_chords = [\"Em\", \"Em\", \"Em\", \"Em\",\n",
        "               \"G\", \"G\", \"G\", \"G\",\n",
        "               \"D\", \"D\", \"D\", \"D\",\n",
        "               \"A\", \"A\", \"A\", \"A\"]\n",
        "\n",
        "# Choose how many times to repeat progression:\n",
        "progression_repeat = 4\n",
        "\n",
        "# Choose instrument (MIDI program numbers: 0-127)\n",
        "# Some common instruments:\n",
        "# 0  = Acoustic Grand Piano\n",
        "# 24 = Nylon String Guitar\n",
        "# 33 = Electric Bass (finger)\n",
        "# 40 = Violin\n",
        "# 56 = Trumpet\n",
        "# 73 = Flute\n",
        "instrument = 73  # Change this to select an instrument\n",
        "\n",
        "#Choose file name:\n",
        "midi_path = \"basic_progression_flute.mid\"\n"
      ],
      "metadata": {
        "id": "OzcenzJT8jhO"
      },
      "execution_count": null,
      "outputs": []
    },
    {
      "cell_type": "code",
      "source": [
        "from mido import Message, MidiFile, MidiTrack\n",
        "\n",
        "# Create a new MIDI file and track\n",
        "midi = MidiFile()\n",
        "track = MidiTrack()\n",
        "midi.tracks.append(track)\n",
        "\n",
        "# Set tempo (120 BPM)\n",
        "track.append(Message('program_change', program=0, time=0))  # Set to Acoustic Grand Piano\n",
        "\n",
        "# Add chords to the track (each lasting 1 second)\n",
        "tick_duration = 480  # Standard tick duration for quarter notes\n",
        "\n",
        "# Repeat the progression:\n",
        "for _ in range(progression_repeat):\n",
        "    for chord in user_chords:\n",
        "        notes = get_chord_notes(chord)\n",
        "        for note in notes:\n",
        "            track.append(Message('note_on', note=note, velocity=64, time=0))\n",
        "        track.append(Message('note_off', note=notes[0], velocity=64, time=tick_duration))\n",
        "        for note in notes[1:]:\n",
        "            track.append(Message('note_off', note=note, velocity=64, time=0))\n",
        "\n",
        "# Save the MIDI file\n",
        "midi.save(midi_path)\n"
      ],
      "metadata": {
        "id": "7n-uLl036MA0"
      },
      "execution_count": null,
      "outputs": []
    },
    {
      "cell_type": "markdown",
      "source": [
        "Listen to the MIDI file here: [https://midiplayer.ehubsoft.net/](https://midiplayer.ehubsoft.net/)"
      ],
      "metadata": {
        "id": "ewC6RpNuceg-"
      }
    },
    {
      "cell_type": "markdown",
      "source": [
        "# Application 1: Music Generation\n",
        "\n"
      ],
      "metadata": {
        "id": "TVafYo84RHw9"
      }
    },
    {
      "cell_type": "markdown",
      "source": [
        "## Sound Draw\n"
      ],
      "metadata": {
        "id": "qOWERmLtKmt_"
      }
    },
    {
      "cell_type": "markdown",
      "source": [
        "Web-based music generator with a free demo, but needs an account for downloads:\n",
        "\n",
        "[https://soundraw.io/generate_music](https://soundraw.io/generate_music)"
      ],
      "metadata": {
        "id": "UN4bE7VAK4Tx"
      }
    },
    {
      "cell_type": "markdown",
      "source": [
        "## MusicGen by Meta\n",
        "\n",
        "MusicGen generaties music samples using text descriptions or audio prompts.\n",
        "\n",
        "See full demo here:\n",
        "https://colab.research.google.com/github/openvinotoolkit/openvino_notebooks/blob/latest/notebooks/music-generation/music-generation.ipynb\n"
      ],
      "metadata": {
        "id": "LjSfwhgNR5LP"
      }
    },
    {
      "cell_type": "code",
      "source": [
        "%pip install -q \"torch>=2.1\" \"gradio>=4.19\" \"transformers\" packaging --extra-index-url https://download.pytorch.org/whl/cpu"
      ],
      "metadata": {
        "colab": {
          "base_uri": "https://localhost:8080/"
        },
        "id": "khftRi3wR8NP",
        "outputId": "48774a32-2631-4072-b24f-75289527d247"
      },
      "execution_count": null,
      "outputs": [
        {
          "output_type": "stream",
          "name": "stdout",
          "text": [
            "\u001b[2K   \u001b[90m━━━━━━━━━━━━━━━━━━━━━━━━━━━━━━━━━━━━━━━━\u001b[0m \u001b[32m46.7/46.7 MB\u001b[0m \u001b[31m8.3 MB/s\u001b[0m eta \u001b[36m0:00:00\u001b[0m\n",
            "\u001b[2K   \u001b[90m━━━━━━━━━━━━━━━━━━━━━━━━━━━━━━━━━━━━━━━━\u001b[0m \u001b[32m363.4/363.4 MB\u001b[0m \u001b[31m4.4 MB/s\u001b[0m eta \u001b[36m0:00:00\u001b[0m\n",
            "\u001b[2K   \u001b[90m━━━━━━━━━━━━━━━━━━━━━━━━━━━━━━━━━━━━━━━━\u001b[0m \u001b[32m13.8/13.8 MB\u001b[0m \u001b[31m53.4 MB/s\u001b[0m eta \u001b[36m0:00:00\u001b[0m\n",
            "\u001b[2K   \u001b[90m━━━━━━━━━━━━━━━━━━━━━━━━━━━━━━━━━━━━━━━━\u001b[0m \u001b[32m24.6/24.6 MB\u001b[0m \u001b[31m21.7 MB/s\u001b[0m eta \u001b[36m0:00:00\u001b[0m\n",
            "\u001b[2K   \u001b[90m━━━━━━━━━━━━━━━━━━━━━━━━━━━━━━━━━━━━━━━━\u001b[0m \u001b[32m883.7/883.7 kB\u001b[0m \u001b[31m34.5 MB/s\u001b[0m eta \u001b[36m0:00:00\u001b[0m\n",
            "\u001b[2K   \u001b[90m━━━━━━━━━━━━━━━━━━━━━━━━━━━━━━━━━━━━━━━━\u001b[0m \u001b[32m664.8/664.8 MB\u001b[0m \u001b[31m3.2 MB/s\u001b[0m eta \u001b[36m0:00:00\u001b[0m\n",
            "\u001b[2K   \u001b[90m━━━━━━━━━━━━━━━━━━━━━━━━━━━━━━━━━━━━━━━━\u001b[0m \u001b[32m211.5/211.5 MB\u001b[0m \u001b[31m5.4 MB/s\u001b[0m eta \u001b[36m0:00:00\u001b[0m\n",
            "\u001b[2K   \u001b[90m━━━━━━━━━━━━━━━━━━━━━━━━━━━━━━━━━━━━━━━━\u001b[0m \u001b[32m56.3/56.3 MB\u001b[0m \u001b[31m13.3 MB/s\u001b[0m eta \u001b[36m0:00:00\u001b[0m\n",
            "\u001b[2K   \u001b[90m━━━━━━━━━━━━━━━━━━━━━━━━━━━━━━━━━━━━━━━━\u001b[0m \u001b[32m127.9/127.9 MB\u001b[0m \u001b[31m7.6 MB/s\u001b[0m eta \u001b[36m0:00:00\u001b[0m\n",
            "\u001b[2K   \u001b[90m━━━━━━━━━━━━━━━━━━━━━━━━━━━━━━━━━━━━━━━━\u001b[0m \u001b[32m207.5/207.5 MB\u001b[0m \u001b[31m4.3 MB/s\u001b[0m eta \u001b[36m0:00:00\u001b[0m\n",
            "\u001b[2K   \u001b[90m━━━━━━━━━━━━━━━━━━━━━━━━━━━━━━━━━━━━━━━━\u001b[0m \u001b[32m21.1/21.1 MB\u001b[0m \u001b[31m36.8 MB/s\u001b[0m eta \u001b[36m0:00:00\u001b[0m\n",
            "\u001b[2K   \u001b[90m━━━━━━━━━━━━━━━━━━━━━━━━━━━━━━━━━━━━━━━━\u001b[0m \u001b[32m46.5/46.5 MB\u001b[0m \u001b[31m11.7 MB/s\u001b[0m eta \u001b[36m0:00:00\u001b[0m\n",
            "\u001b[2K   \u001b[90m━━━━━━━━━━━━━━━━━━━━━━━━━━━━━━━━━━━━━━━━\u001b[0m \u001b[32m322.2/322.2 kB\u001b[0m \u001b[31m17.8 MB/s\u001b[0m eta \u001b[36m0:00:00\u001b[0m\n",
            "\u001b[2K   \u001b[90m━━━━━━━━━━━━━━━━━━━━━━━━━━━━━━━━━━━━━━━━\u001b[0m \u001b[32m95.2/95.2 kB\u001b[0m \u001b[31m6.0 MB/s\u001b[0m eta \u001b[36m0:00:00\u001b[0m\n",
            "\u001b[2K   \u001b[90m━━━━━━━━━━━━━━━━━━━━━━━━━━━━━━━━━━━━━━━━\u001b[0m \u001b[32m11.3/11.3 MB\u001b[0m \u001b[31m65.3 MB/s\u001b[0m eta \u001b[36m0:00:00\u001b[0m\n",
            "\u001b[2K   \u001b[90m━━━━━━━━━━━━━━━━━━━━━━━━━━━━━━━━━━━━━━━━\u001b[0m \u001b[32m72.0/72.0 kB\u001b[0m \u001b[31m4.4 MB/s\u001b[0m eta \u001b[36m0:00:00\u001b[0m\n",
            "\u001b[2K   \u001b[90m━━━━━━━━━━━━━━━━━━━━━━━━━━━━━━━━━━━━━━━━\u001b[0m \u001b[32m62.3/62.3 kB\u001b[0m \u001b[31m3.6 MB/s\u001b[0m eta \u001b[36m0:00:00\u001b[0m\n",
            "\u001b[?25h"
          ]
        }
      ]
    },
    {
      "cell_type": "code",
      "source": [
        "from collections import namedtuple\n",
        "from functools import partial\n",
        "import gc\n",
        "from pathlib import Path\n",
        "from typing import Optional, Tuple\n",
        "import warnings\n",
        "\n",
        "from IPython.display import Audio\n",
        "import numpy as np\n",
        "import torch\n",
        "from torch.jit import TracerWarning\n",
        "from transformers import AutoProcessor, MusicgenForConditionalGeneration\n",
        "from transformers.modeling_outputs import (\n",
        "    BaseModelOutputWithPastAndCrossAttentions,\n",
        "    CausalLMOutputWithCrossAttentions,\n",
        ")\n",
        "\n",
        "# Ignore tracing warnings\n",
        "warnings.filterwarnings(\"ignore\", category=TracerWarning)"
      ],
      "metadata": {
        "colab": {
          "base_uri": "https://localhost:8080/"
        },
        "id": "qTlbNQuwykV0",
        "outputId": "cae50404-d2a6-40fb-d679-4b8028ddc1ab"
      },
      "execution_count": null,
      "outputs": [
        {
          "output_type": "stream",
          "name": "stderr",
          "text": [
            "<frozen importlib.util>:262: DeprecationWarning: The `openvino.runtime` module is deprecated and will be removed in the 2026.0 release. Please replace `openvino.runtime` with `openvino`.\n"
          ]
        }
      ]
    },
    {
      "cell_type": "code",
      "source": [
        "import sys\n",
        "from packaging.version import parse\n",
        "\n",
        "\n",
        "if sys.version_info < (3, 8):\n",
        "    import importlib_metadata\n",
        "else:\n",
        "    import importlib.metadata as importlib_metadata\n",
        "loading_kwargs = {}\n",
        "\n",
        "if parse(importlib_metadata.version(\"transformers\")) >= parse(\"4.40.0\"):\n",
        "    loading_kwargs[\"attn_implementation\"] = \"eager\"\n",
        "\n",
        "\n",
        "# Load the pipeline\n",
        "model = MusicgenForConditionalGeneration.from_pretrained(\"facebook/musicgen-small\", torchscript=True, return_dict=False, **loading_kwargs)"
      ],
      "metadata": {
        "colab": {
          "base_uri": "https://localhost:8080/",
          "height": 1000,
          "referenced_widgets": [
            "1ba8398640de442d96d3546a11ac1bcb",
            "a6a7e30be0a0406d91c22fdca1592e82",
            "79e655f86051450598ccc9d2a7f62a61",
            "4956c3abe8cd4bb0871253abe1a05577",
            "2f18b8210d914d1a9ef5594719084b83",
            "4011c6d07b8d4539bea2d5a72b4ebd33",
            "9d0e8b324495402982688248830bcfdf",
            "d7eb7f6752f64478b1c1f8d63f5772db",
            "8aed2ab2a080446685ae372442a765d9",
            "5ffe32bc67834589aebae1ff602554e2",
            "4cabee38eb1646afa38f51162b94a32b",
            "9885be60c0874f76af62c0e3dea2a6be",
            "53f1c458dae84e1ea8fc9729ccc50e90",
            "d7e1cc6fcd8547368ad9fe749dada2d6",
            "322cd8ea14294639b8f2a4a92b943c4a",
            "bd7b279d5ead4526813fa33325fd5390",
            "332798dab47f47e58a14cb67d5096e43",
            "c67215ef16d14c479e05b00a088014b7",
            "a667a7f232a8498dbcab444b969c9bb3",
            "f7492e87e5e7446f9e2f936bb5fe2b6f",
            "32d990d955bc4dd1ae3c6c6dd3e1bf00",
            "bba23f28f38d48029cf050a0dfa78983",
            "e35eb5cf99d248fa9fd99364f59fc494",
            "116d955bf55d4fa494eecefa22f716ee",
            "4044ea83574a450b835ae326f95225b8",
            "5e60d3234e664d838b723eeb840fa2ef",
            "a7ea61fd5a9c4fd391029fcdd2914384",
            "b12d62b32eea49279ef956657eb29dc4",
            "9fdde99554c947498ca74c0d8f72185d",
            "52720746774941a38e804f44b52e7c05",
            "847cf15ca5ab4465a3858487c2fa5888",
            "de8873b9c2b64ffcb94828aedc0d960f",
            "19447ddeade6487a89397a42b286c08a"
          ]
        },
        "id": "6WwhUCjyz65A",
        "outputId": "a49fb0cd-7b7b-4665-e3b1-ae31cdbfa07d"
      },
      "execution_count": null,
      "outputs": [
        {
          "output_type": "stream",
          "name": "stderr",
          "text": [
            "/usr/local/lib/python3.11/dist-packages/huggingface_hub/utils/_auth.py:94: UserWarning: \n",
            "The secret `HF_TOKEN` does not exist in your Colab secrets.\n",
            "To authenticate with the Hugging Face Hub, create a token in your settings tab (https://huggingface.co/settings/tokens), set it as secret in your Google Colab and restart your session.\n",
            "You will be able to reuse this secret in all of your notebooks.\n",
            "Please note that authentication is recommended but still optional to access public models or datasets.\n",
            "  warnings.warn(\n"
          ]
        },
        {
          "output_type": "display_data",
          "data": {
            "text/plain": [
              "config.json:   0%|          | 0.00/7.87k [00:00<?, ?B/s]"
            ],
            "application/vnd.jupyter.widget-view+json": {
              "version_major": 2,
              "version_minor": 0,
              "model_id": "1ba8398640de442d96d3546a11ac1bcb"
            }
          },
          "metadata": {}
        },
        {
          "output_type": "display_data",
          "data": {
            "text/plain": [
              "model.safetensors:   0%|          | 0.00/2.36G [00:00<?, ?B/s]"
            ],
            "application/vnd.jupyter.widget-view+json": {
              "version_major": 2,
              "version_minor": 0,
              "model_id": "9885be60c0874f76af62c0e3dea2a6be"
            }
          },
          "metadata": {}
        },
        {
          "output_type": "stream",
          "name": "stderr",
          "text": [
            "Config of the text_encoder: <class 'transformers.models.t5.modeling_t5.T5EncoderModel'> is overwritten by shared text_encoder config: T5Config {\n",
            "  \"architectures\": [\n",
            "    \"T5ForConditionalGeneration\"\n",
            "  ],\n",
            "  \"classifier_dropout\": 0.0,\n",
            "  \"d_ff\": 3072,\n",
            "  \"d_kv\": 64,\n",
            "  \"d_model\": 768,\n",
            "  \"decoder_start_token_id\": 0,\n",
            "  \"dense_act_fn\": \"relu\",\n",
            "  \"dropout_rate\": 0.1,\n",
            "  \"eos_token_id\": 1,\n",
            "  \"feed_forward_proj\": \"relu\",\n",
            "  \"initializer_factor\": 1.0,\n",
            "  \"is_encoder_decoder\": true,\n",
            "  \"is_gated_act\": false,\n",
            "  \"layer_norm_epsilon\": 1e-06,\n",
            "  \"model_type\": \"t5\",\n",
            "  \"n_positions\": 512,\n",
            "  \"num_decoder_layers\": 12,\n",
            "  \"num_heads\": 12,\n",
            "  \"num_layers\": 12,\n",
            "  \"output_past\": true,\n",
            "  \"pad_token_id\": 0,\n",
            "  \"relative_attention_max_distance\": 128,\n",
            "  \"relative_attention_num_buckets\": 32,\n",
            "  \"task_specific_params\": {\n",
            "    \"summarization\": {\n",
            "      \"early_stopping\": true,\n",
            "      \"length_penalty\": 2.0,\n",
            "      \"max_length\": 200,\n",
            "      \"min_length\": 30,\n",
            "      \"no_repeat_ngram_size\": 3,\n",
            "      \"num_beams\": 4,\n",
            "      \"prefix\": \"summarize: \"\n",
            "    },\n",
            "    \"translation_en_to_de\": {\n",
            "      \"early_stopping\": true,\n",
            "      \"max_length\": 300,\n",
            "      \"num_beams\": 4,\n",
            "      \"prefix\": \"translate English to German: \"\n",
            "    },\n",
            "    \"translation_en_to_fr\": {\n",
            "      \"early_stopping\": true,\n",
            "      \"max_length\": 300,\n",
            "      \"num_beams\": 4,\n",
            "      \"prefix\": \"translate English to French: \"\n",
            "    },\n",
            "    \"translation_en_to_ro\": {\n",
            "      \"early_stopping\": true,\n",
            "      \"max_length\": 300,\n",
            "      \"num_beams\": 4,\n",
            "      \"prefix\": \"translate English to Romanian: \"\n",
            "    }\n",
            "  },\n",
            "  \"torch_dtype\": \"float32\",\n",
            "  \"transformers_version\": \"4.50.2\",\n",
            "  \"use_cache\": true,\n",
            "  \"vocab_size\": 32128\n",
            "}\n",
            "\n",
            "Config of the audio_encoder: <class 'transformers.models.encodec.modeling_encodec.EncodecModel'> is overwritten by shared audio_encoder config: EncodecConfig {\n",
            "  \"architectures\": [\n",
            "    \"EncodecModel\"\n",
            "  ],\n",
            "  \"audio_channels\": 1,\n",
            "  \"chunk_length_s\": null,\n",
            "  \"codebook_dim\": 128,\n",
            "  \"codebook_size\": 2048,\n",
            "  \"compress\": 2,\n",
            "  \"dilation_growth_rate\": 2,\n",
            "  \"hidden_size\": 128,\n",
            "  \"kernel_size\": 7,\n",
            "  \"last_kernel_size\": 7,\n",
            "  \"model_type\": \"encodec\",\n",
            "  \"norm_type\": \"weight_norm\",\n",
            "  \"normalize\": false,\n",
            "  \"num_filters\": 64,\n",
            "  \"num_lstm_layers\": 2,\n",
            "  \"num_residual_layers\": 1,\n",
            "  \"overlap\": null,\n",
            "  \"pad_mode\": \"reflect\",\n",
            "  \"residual_kernel_size\": 3,\n",
            "  \"sampling_rate\": 32000,\n",
            "  \"target_bandwidths\": [\n",
            "    2.2\n",
            "  ],\n",
            "  \"torch_dtype\": \"float32\",\n",
            "  \"transformers_version\": \"4.50.2\",\n",
            "  \"trim_right_ratio\": 1.0,\n",
            "  \"upsampling_ratios\": [\n",
            "    8,\n",
            "    5,\n",
            "    4,\n",
            "    4\n",
            "  ],\n",
            "  \"use_causal_conv\": false,\n",
            "  \"use_conv_shortcut\": false\n",
            "}\n",
            "\n",
            "Config of the decoder: <class 'transformers.models.musicgen.modeling_musicgen.MusicgenForCausalLM'> is overwritten by shared decoder config: MusicgenDecoderConfig {\n",
            "  \"activation_dropout\": 0.0,\n",
            "  \"activation_function\": \"gelu\",\n",
            "  \"attention_dropout\": 0.0,\n",
            "  \"audio_channels\": 1,\n",
            "  \"bos_token_id\": 2048,\n",
            "  \"classifier_dropout\": 0.0,\n",
            "  \"dropout\": 0.1,\n",
            "  \"ffn_dim\": 4096,\n",
            "  \"hidden_size\": 1024,\n",
            "  \"initializer_factor\": 0.02,\n",
            "  \"layerdrop\": 0.0,\n",
            "  \"max_position_embeddings\": 2048,\n",
            "  \"model_type\": \"musicgen_decoder\",\n",
            "  \"num_attention_heads\": 16,\n",
            "  \"num_codebooks\": 4,\n",
            "  \"num_hidden_layers\": 24,\n",
            "  \"pad_token_id\": 2048,\n",
            "  \"scale_embedding\": false,\n",
            "  \"tie_word_embeddings\": false,\n",
            "  \"torch_dtype\": \"float32\",\n",
            "  \"transformers_version\": \"4.50.2\",\n",
            "  \"use_cache\": true,\n",
            "  \"vocab_size\": 2048\n",
            "}\n",
            "\n"
          ]
        },
        {
          "output_type": "display_data",
          "data": {
            "text/plain": [
              "generation_config.json:   0%|          | 0.00/224 [00:00<?, ?B/s]"
            ],
            "application/vnd.jupyter.widget-view+json": {
              "version_major": 2,
              "version_minor": 0,
              "model_id": "e35eb5cf99d248fa9fd99364f59fc494"
            }
          },
          "metadata": {}
        }
      ]
    },
    {
      "cell_type": "code",
      "source": [
        "# Edit the prompt here to test a different audio:\n",
        "# text_prompt = [\"80s pop track with bassy drums and synth\"]\n",
        "text_prompt = [\"catchy show tune\"]\n",
        "\n",
        "# change the duration of the music here:\n",
        "sample_length = 4  # seconds"
      ],
      "metadata": {
        "id": "5Ww05ZRg0KL8"
      },
      "execution_count": null,
      "outputs": []
    },
    {
      "cell_type": "code",
      "source": [
        "## Setting sampling rate:\n",
        "n_tokens = sample_length * model.config.audio_encoder.frame_rate + 3\n",
        "sampling_rate = model.config.audio_encoder.sampling_rate\n",
        "print(\"Sampling rate is\", sampling_rate, \"Hz\")\n",
        "\n",
        "model.to(\"cpu\")\n",
        "model.eval();"
      ],
      "metadata": {
        "colab": {
          "base_uri": "https://localhost:8080/"
        },
        "id": "xqO3i77_ymHF",
        "outputId": "fea428fd-78da-4ed7-9464-eea056f3a4ba"
      },
      "execution_count": null,
      "outputs": [
        {
          "output_type": "stream",
          "name": "stdout",
          "text": [
            "Sampling rate is 32000 Hz\n"
          ]
        }
      ]
    },
    {
      "cell_type": "code",
      "source": [
        "processor = AutoProcessor.from_pretrained(\"facebook/musicgen-small\")\n",
        "\n",
        "inputs = processor(\n",
        "    text=text_prompt,\n",
        "    return_tensors=\"pt\",\n",
        ")\n",
        "\n",
        "audio_values = model.generate(**inputs, do_sample=True,\n",
        "                              guidance_scale=3,\n",
        "                              max_new_tokens=n_tokens)\n",
        "\n",
        "Audio(audio_values[0].cpu().numpy(), rate=sampling_rate)"
      ],
      "metadata": {
        "colab": {
          "base_uri": "https://localhost:8080/",
          "height": 72
        },
        "id": "3ai6VJi5y-Db",
        "outputId": "3cfa99ac-da36-4f37-d630-ea01f734b9f9"
      },
      "execution_count": null,
      "outputs": [
        {
          "output_type": "execute_result",
          "data": {
            "text/plain": [
              "<IPython.lib.display.Audio object>"
            ],
            "text/html": [
              "\n",
              "                <audio  controls=\"controls\" >\n",
              "                    <source src=\"data:audio/wav;base64,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\" type=\"audio/wav\" />\n",
              "                    Your browser does not support the audio element.\n",
              "                </audio>\n",
              "              "
            ]
          },
          "metadata": {},
          "execution_count": 16
        }
      ]
    },
    {
      "cell_type": "markdown",
      "source": [
        "# Application 2: Musical Transcription\n"
      ],
      "metadata": {
        "id": "RHtDLuu65y95"
      }
    },
    {
      "cell_type": "markdown",
      "source": [
        "## Generating Sheet Music with Songcription AI\n",
        "\n",
        "For this demo, we will first generate the MIDI file for a simple piano chord progression below. You can use any single-instrument audio file instead.\n",
        "\n",
        "Once you are ready with your audio file, go to the url: [https://www.songscription.ai/](https://www.songscription.ai/)"
      ],
      "metadata": {
        "id": "saiPc7xE7QEG"
      }
    },
    {
      "cell_type": "markdown",
      "source": [
        "# Application 3: Noise Reduction and Identification"
      ],
      "metadata": {
        "id": "7-nVMGLcRMFR"
      }
    },
    {
      "cell_type": "markdown",
      "source": [
        "\n",
        "An open-source and all-in-one conversational AI toolkit based on PyTorch.\n",
        "\n",
        "Code source: https://colab.research.google.com/github/speechbrain/speechbrain/blob/develop/docs/tutorials/basics/what-can-i-do-with-speechbrain.ipynb#scrollTo=PuVNyffAhVfx"
      ],
      "metadata": {
        "id": "RzTh-OW6YqxD"
      }
    },
    {
      "cell_type": "code",
      "source": [
        "%%capture\n",
        "# Installing SpeechBrain via pip\n",
        "BRANCH = 'develop'\n",
        "!python -m pip install git+https://github.com/speechbrain/speechbrain.git@$BRANCH\n"
      ],
      "metadata": {
        "id": "ZzbDyPO5e9Vv"
      },
      "execution_count": null,
      "outputs": []
    },
    {
      "cell_type": "code",
      "source": [
        "import speechbrain as sb\n",
        "from speechbrain.dataio.dataio import read_audio\n",
        "from IPython.display import Audio\n",
        "from speechbrain.inference.separation import SepformerSeparation as separator\n",
        "import torchaudio"
      ],
      "metadata": {
        "id": "MbwuMcfte9dP"
      },
      "execution_count": null,
      "outputs": []
    },
    {
      "cell_type": "code",
      "source": [
        "!wget -O example_whamr.wav \"https://www.dropbox.com/scl/fi/gxbtbf3c3hxr0y9dbf0nw/example_whamr.wav?rlkey=1wt5d49kjl36h0zypwrmsy8nz&dl=1\"\n",
        "!wget -O voice_sample.mp3 \"https://raw.githubusercontent.com/ua-datalab/NLP-Speech/main/AI_applications_for_Audio/voice_sample.mp3\"\n",
        "!wget -O voice_sample.mp3 \"https://raw.githubusercontent.com/ua-datalab/NLP-Speech/main/AI_applications_for_Audio/voice_sample_noisy.mp3\"\n"
      ],
      "metadata": {
        "id": "8PL2r9KgjGlN"
      },
      "execution_count": null,
      "outputs": []
    },
    {
      "cell_type": "code",
      "source": [
        "model = separator.from_hparams(source=\"speechbrain/sepformer-whamr-enhancement\",\n",
        "                               savedir='pretrained_models/sepformer-whamr-enhancement4')\n",
        "\n",
        "enhanced_speech = model.separate_file(path='/content/example_whamr.wav')\n",
        "# enhanced_speech2 = model.separate_file(path='/content/voice_sample_noisy.mp3')"
      ],
      "metadata": {
        "id": "YGYqOBB6e9iv"
      },
      "execution_count": null,
      "outputs": []
    },
    {
      "cell_type": "code",
      "source": [
        "signal = read_audio(\"/content/example_whamr.wav\").squeeze()\n",
        "Audio(signal, rate=8000)"
      ],
      "metadata": {
        "id": "n9C801sOi9zP"
      },
      "execution_count": null,
      "outputs": []
    },
    {
      "cell_type": "code",
      "source": [
        "Audio(enhanced_speech[:, :].detach().cpu().squeeze(), rate=8000)"
      ],
      "metadata": {
        "id": "4Gg50tlhfRXk"
      },
      "execution_count": null,
      "outputs": []
    },
    {
      "cell_type": "code",
      "source": [
        "# signal = read_audio(\"/voice_sample_noisy.mp3\").squeeze()\n",
        "# Audio(signal, rate=8000)"
      ],
      "metadata": {
        "id": "p23_4G2ce9nO"
      },
      "execution_count": null,
      "outputs": []
    },
    {
      "cell_type": "code",
      "source": [
        "# Audio(enhanced_speech2[:, :].detach().cpu().squeeze(), rate=8000)"
      ],
      "metadata": {
        "id": "v3X4CSSokI5J"
      },
      "execution_count": null,
      "outputs": []
    },
    {
      "cell_type": "markdown",
      "source": [
        "# Application 4: Voice Cloning"
      ],
      "metadata": {
        "id": "bj1tTI7MXLEe"
      }
    },
    {
      "cell_type": "markdown",
      "source": [
        "ToDo: add Coqui models"
      ],
      "metadata": {
        "id": "iCKsIuw1cu86"
      }
    },
    {
      "cell_type": "code",
      "source": [
        "!pip install TTS\n",
        "!wget -O sample.m4a https://github.com/ua-datalab/Generative-AI/raw/refs/heads/enoriega/langchain/Notebooks/sample.m4a"
      ],
      "metadata": {
        "id": "HlwI3Lx1fwY3"
      },
      "execution_count": null,
      "outputs": []
    },
    {
      "cell_type": "code",
      "source": [
        "# Auto-accept Coqui model downloads\n",
        "# you can comment this line, and manually click 'y' when you see the question.\n",
        "import os\n",
        "os.environ[\"COQUI_TOS_AGREED\"] = \"1\"\n",
        "\n",
        "\n",
        "# Loading a multilingual model\n",
        "tts = TTS(\"tts_models/multilingual/multi-dataset/xtts_v2\")\n",
        "# tts = TTS(\"tts_models/multilingual/multi-dataset/your_tts\")"
      ],
      "metadata": {
        "id": "Y5JjKbUhfwjN"
      },
      "execution_count": null,
      "outputs": []
    },
    {
      "cell_type": "code",
      "source": [
        "sample_audio = \"/content/sample.m4a\"\n",
        "sample_audio2 = \"/content/voice_sample.mp3\"\n",
        "\n",
        "tts.tts_to_file(\"This is voice cloning.\",\n",
        "                speaker_wav=sample_audio,\n",
        "                language=\"en\",\n",
        "                file_path=\"output.wav\")\n",
        "\n"
      ],
      "metadata": {
        "id": "sdD05N2tfwmc"
      },
      "execution_count": null,
      "outputs": []
    },
    {
      "cell_type": "code",
      "source": [
        "display(Audio('output_tts.wav', autoplay=True))"
      ],
      "metadata": {
        "id": "ZvItZROJfwp7"
      },
      "execution_count": null,
      "outputs": []
    },
    {
      "cell_type": "markdown",
      "source": [
        "# Application 5: Notebook LM"
      ],
      "metadata": {
        "id": "ZW_T-JCNb7dH"
      }
    },
    {
      "cell_type": "markdown",
      "source": [
        "ToDo: add description\n",
        "\n",
        "Link: [https://notebooklm.google.com/notebook/15b4c6cc-4513-4e8b-bff5-8b630786396d?authuser=1&pli=1](https://notebooklm.google.com/notebook/15b4c6cc-4513-4e8b-bff5-8b630786396d?authuser=1&pli=1)"
      ],
      "metadata": {
        "id": "HaMPyNegc91C"
      }
    },
    {
      "cell_type": "markdown",
      "source": [
        "# References and resources:\n",
        "\n",
        "- https://vibertthio.com/sornting/\n",
        "- https://github.com/Curated-Awesome-Lists/awesome-ai-music-generation?tab=readme-ov-file\n",
        "- https://ostechnix.com/20-ffmpeg-commands-beginners/\n",
        "- https://umatechnology.org/how-to-use-ffmpeg-commands-for-audio-and-video-processing-on-linux/"
      ],
      "metadata": {
        "id": "Zuq6cDFaLZdf"
      }
    }
  ]
}