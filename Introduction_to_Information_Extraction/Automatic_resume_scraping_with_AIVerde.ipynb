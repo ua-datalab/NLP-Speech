{
  "nbformat": 4,
  "nbformat_minor": 0,
  "metadata": {
    "colab": {
      "provenance": [],
      "gpuType": "T4",
      "authorship_tag": "ABX9TyMu4zpbwiM2apX8TVXqc8sw",
      "include_colab_link": true
    },
    "kernelspec": {
      "name": "python3",
      "display_name": "Python 3"
    },
    "language_info": {
      "name": "python"
    },
    "accelerator": "GPU"
  },
  "cells": [
    {
      "cell_type": "markdown",
      "metadata": {
        "id": "view-in-github",
        "colab_type": "text"
      },
      "source": [
        "<a href=\"https://colab.research.google.com/github/ua-datalab/NLP-Speech/blob/main/Introduction_to_Information_Extraction/Automatic_resume_scraping_with_AIVerde.ipynb\" target=\"_parent\"><img src=\"https://colab.research.google.com/assets/colab-badge.svg\" alt=\"Open In Colab\"/></a>"
      ]
    },
    {
      "cell_type": "markdown",
      "source": [
        "# Automatic resume scraping with LLMs: with AI Verde\n",
        "\n",
        "How are automatic tracking systems used for collecting information from resumes?\n",
        "\n",
        "Source: https://huggingface.co/foduucom/resume-extractor\n",
        "\n",
        "This simple example uses an LLM to extract information from a resume PDF. For this demonstration, we use AI Verde to access the Llama 3.1 model.\n",
        "\n",
        "Note: This will require an API key and access needs to be requested.\n"
      ],
      "metadata": {
        "id": "4Tepu1C2i2B0"
      }
    },
    {
      "cell_type": "code",
      "execution_count": 15,
      "metadata": {
        "id": "ffxdHSsUiwUK"
      },
      "outputs": [],
      "source": [
        "import os\n",
        "\n",
        "# We will add the api key as an environment variable.\n",
        "with open(\"api.txt\") as api:\n",
        "  api_key = api.read()\n",
        "\n",
        "os.environ[\"OPENAI_API_KEY\"] = api_key\n",
        "# We need a custom endpoint, as we will be calling Verde's LLM\n",
        "API_ENDPOINT = \"https://llm-api.cyverse.ai\""
      ]
    },
    {
      "cell_type": "code",
      "source": [
        "from pprint import pprint\n",
        "def pretty_print_model_output(model_output):\n",
        "    \"\"\"\n",
        "    Pretty prints the output of model.invoke(),\n",
        "    handling AIMessage objects.\n",
        "    \"\"\"\n",
        "    if hasattr(model_output, \"content\"):  # Check if AIMessage has 'content' attribute\n",
        "        data = model_output.content\n",
        "        additional_kwargs = model_output.additional_kwargs\n",
        "        response_metadata = model_output.response_metadata\n",
        "\n",
        "    else:\n",
        "        data = str(model_output)  # Fallback to string conversion\n",
        "\n",
        "    print(data)\n",
        "    pprint(additional_kwargs)\n",
        "    pprint(response_metadata)"
      ],
      "metadata": {
        "id": "wZ-7M_8xQ75g"
      },
      "execution_count": 47,
      "outputs": []
    },
    {
      "cell_type": "code",
      "source": [
        "!pip install -qU langchain langchain-openai langchain-community pypdf\n",
        "!pip install pdfminer.six"
      ],
      "metadata": {
        "colab": {
          "base_uri": "https://localhost:8080/"
        },
        "id": "8wkVwq2xjjIk",
        "outputId": "98be235a-ae9a-4bf4-feba-adc8cde4881d"
      },
      "execution_count": 45,
      "outputs": [
        {
          "output_type": "stream",
          "name": "stdout",
          "text": [
            "Requirement already satisfied: pdfminer.six in /usr/local/lib/python3.11/dist-packages (20240706)\n",
            "Requirement already satisfied: charset-normalizer>=2.0.0 in /usr/local/lib/python3.11/dist-packages (from pdfminer.six) (3.4.1)\n",
            "Requirement already satisfied: cryptography>=36.0.0 in /usr/local/lib/python3.11/dist-packages (from pdfminer.six) (43.0.3)\n",
            "Requirement already satisfied: cffi>=1.12 in /usr/local/lib/python3.11/dist-packages (from cryptography>=36.0.0->pdfminer.six) (1.17.1)\n",
            "Requirement already satisfied: pycparser in /usr/local/lib/python3.11/dist-packages (from cffi>=1.12->cryptography>=36.0.0->pdfminer.six) (2.22)\n"
          ]
        }
      ]
    },
    {
      "cell_type": "code",
      "source": [
        "# We will connect to Meta-Llama-3.1 through Verde\n",
        "# Notice how we need to specify the API endpoint\n",
        "model = ChatOpenAI(model=\"Meta-Llama-3.1-70B-Instruct-quantized\", base_url=API_ENDPOINT)\n",
        "\n",
        "# Do a test call:\n",
        "response = model.invoke(\"Hello, who are you?\")\n"
      ],
      "metadata": {
        "id": "6115Vu_9j35W"
      },
      "execution_count": 26,
      "outputs": []
    },
    {
      "cell_type": "code",
      "source": [
        "# Example usage\n",
        "pretty_print_model_output(response)\n"
      ],
      "metadata": {
        "colab": {
          "base_uri": "https://localhost:8080/"
        },
        "id": "SAjrordkRyFN",
        "outputId": "0ad2d78b-0454-404e-b669-d26fc9f05f5e"
      },
      "execution_count": 44,
      "outputs": [
        {
          "output_type": "stream",
          "name": "stdout",
          "text": [
            "I'm an artificial intelligence model known as Llama. Llama stands for \"Large Language Model Meta AI.\"\n",
            "{'refusal': None}\n",
            "{'finish_reason': 'stop',\n",
            " 'logprobs': None,\n",
            " 'model_name': 'neuralmagic/Meta-Llama-3.1-70B-Instruct-quantized.w8a8',\n",
            " 'system_fingerprint': None,\n",
            " 'token_usage': {'completion_tokens': 23,\n",
            "                 'completion_tokens_details': None,\n",
            "                 'prompt_tokens': 41,\n",
            "                 'prompt_tokens_details': None,\n",
            "                 'total_tokens': 64}}\n"
          ]
        }
      ]
    },
    {
      "cell_type": "code",
      "source": [
        "from langchain_openai import ChatOpenAI \t\t# We use the OpenAI protocol, but are using another provider (Verde)"
      ],
      "metadata": {
        "id": "sefWCBoGOveW"
      },
      "execution_count": 17,
      "outputs": []
    },
    {
      "cell_type": "code",
      "source": [
        "# Format for the extracted output:\n",
        "json_content = \"\"\"{{\n",
        "    \"name\": \"\",\n",
        "    \"email\" : \"\",\n",
        "    \"phone_1\": \"\",\n",
        "    \"phone_2\": \"\",\n",
        "    \"address\": \"\",\n",
        "    \"city\": \"\",\n",
        "    \"linkedin\": \"\",\n",
        "    \"professional_experience_in_years\": \"\",\n",
        "    \"highest_education\": \"\",\n",
        "    \"is_fresher\": \"yes/no\",\n",
        "    \"is_student\": \"yes/no\",\n",
        "    \"skills\": [\"\",\"\"],\n",
        "    \"applied_for_profile\": \"\",\n",
        "    \"education\": [\n",
        "        {{\n",
        "            \"institute_name\": \"\",\n",
        "            \"year_of_passing\": \"\",\n",
        "            \"score\": \"\"\n",
        "        }},\n",
        "        {{\n",
        "            \"institute_name\": \"\",\n",
        "            \"year_of_passing\": \"\",\n",
        "            \"score\": \"\"\n",
        "        }}\n",
        "    ],\n",
        "    \"professional_experience\": [\n",
        "        {{\n",
        "            \"organisation_name\": \"\",\n",
        "            \"duration\": \"\",\n",
        "            \"profile\": \"\"\n",
        "        }},\n",
        "        {{\n",
        "            \"organisation_name\": \"\",\n",
        "            \"duration\": \"\",\n",
        "            \"profile\": \"\"\n",
        "        }}\n",
        "    ]\n",
        "}}\"\"\"\n",
        "\n",
        "class InputData:\n",
        "    # LLM Prompt\n",
        "    def input_data(self, text):\n",
        "\n",
        "        input = f\"\"\"Extract relevant information from the following resume text and fill the provided JSON template.\n",
        "                    Ensure all keys in the template are present in the output,\n",
        "                    even if the value is empty or unknown.\n",
        "                    If a specific piece of information is not found in the text, use 'Not provided' as the value.\n",
        "\n",
        "        Resume text:\n",
        "        {text}\n",
        "\n",
        "        JSON template:\n",
        "        {json_content}\n",
        "\n",
        "        Instructions:\n",
        "        1. Carefully analyse the resume text.\n",
        "        2. Extract relevant information for each field in the JSON template.\n",
        "        3. If a piece of information is not explicitly stated, make a reasonable inference based on the context.\n",
        "        4. Ensure all keys from the template are present in the output JSON.\n",
        "        5. Format the output as a valid JSON string.\n",
        "\n",
        "        Output the filled JSON template only, without any additional text or explanations.\"\"\"\n",
        "\n",
        "        return input\n",
        "    # run LLM:\n",
        "    def llm(self):\n",
        "        llm = ChatOpenAI(model=\"Meta-Llama-3.1-70B-Instruct-quantized\", base_url=API_ENDPOINT)\n",
        "        return llm"
      ],
      "metadata": {
        "id": "CO1NcsD4j7C_"
      },
      "execution_count": 19,
      "outputs": []
    },
    {
      "cell_type": "code",
      "source": [
        "# Process resume and print results:\n",
        "from pdfminer.high_level import extract_text\n",
        "\n",
        "def extract_text_from_pdf(pdf_path):\n",
        "    return extract_text(pdf_path)"
      ],
      "metadata": {
        "id": "c0asgHVBN4EI"
      },
      "execution_count": 5,
      "outputs": []
    },
    {
      "cell_type": "code",
      "source": [
        "!wget --no-check-certificate -O anti-cv.pdf \"https://raw.githubusercontent.com/ua-datalab/NLP-Speech/main/Introduction_to_Information_Extraction/anti-cv.pdf\"\n"
      ],
      "metadata": {
        "colab": {
          "base_uri": "https://localhost:8080/"
        },
        "id": "FM9AxIhVN4kB",
        "outputId": "4798975a-5f47-495a-a6fc-eb47f01e59df"
      },
      "execution_count": 6,
      "outputs": [
        {
          "output_type": "stream",
          "name": "stdout",
          "text": [
            "--2025-02-20 07:17:57--  https://raw.githubusercontent.com/ua-datalab/NLP-Speech/main/Introduction_to_Information_Extraction/anti-cv.pdf\n",
            "Resolving raw.githubusercontent.com (raw.githubusercontent.com)... 185.199.109.133, 185.199.110.133, 185.199.108.133, ...\n",
            "Connecting to raw.githubusercontent.com (raw.githubusercontent.com)|185.199.109.133|:443... connected.\n",
            "HTTP request sent, awaiting response... 200 OK\n",
            "Length: 68269 (67K) [application/octet-stream]\n",
            "Saving to: ‘anti-cv.pdf’\n",
            "\n",
            "anti-cv.pdf         100%[===================>]  66.67K  --.-KB/s    in 0.002s  \n",
            "\n",
            "2025-02-20 07:17:57 (35.0 MB/s) - ‘anti-cv.pdf’ saved [68269/68269]\n",
            "\n"
          ]
        }
      ]
    },
    {
      "cell_type": "code",
      "source": [
        "# Extraction:\n",
        "text = extract_text_from_pdf(r'/content/anti-cv.pdf')\n",
        "\n",
        "print(text)"
      ],
      "metadata": {
        "colab": {
          "base_uri": "https://localhost:8080/"
        },
        "id": "Z5epffP5OGhJ",
        "outputId": "5187accf-184a-4092-ef93-5268fb910ffa"
      },
      "execution_count": 20,
      "outputs": [
        {
          "output_type": "stream",
          "name": "stdout",
          "text": [
            "Jane Doe\n",
            "\n",
            "Anti Curriculum Vitae\n",
            "\n",
            "KEY\n",
            "\n",
            "+1 (123) 456 7898\n",
            "\n",
            "website janedoe.xyz\n",
            "\n",
            "jane.doe@gmail.com\n",
            "github github.com/jane\n",
            "\n",
            "(cid:114) Heart-stab. Professional rejections and things I messed up.\n",
            "⇝ Squigly arrow. What did I learn? What were the consequences?\n",
            "\n",
            "EDUCATION\n",
            "\n",
            "(cid:114) High-school: Never took German class seriously. To this day I don’t speak German.\n",
            "⇝ I think I learned my lesson. I regret not having learned German, I wish I could speak to my German\n",
            "\n",
            "colleagues in their mother tongue now.\n",
            "\n",
            "WORK EXPERIANCE\n",
            "\n",
            "(cid:114) Summer 2021 Rejected from XYZ.\n",
            "(cid:114) Summer 2021, didn’t participate in the final round of the Alibaba math competition.\n",
            "(cid:114) Spring 2021 University research scholarship, my sloppy last minute application was rejected ⇝ Don’t\n",
            "\n",
            "make a last minuet sloppy application. Write multiple drafts days in advance.\n",
            "\n",
            "(cid:114) DEF, rejected ⇝ they replied and were cordial, and told me they would get back to me if they needed\n",
            "\n",
            "me in the future.\n",
            "\n",
            "(cid:114) Lorum Ipsum rejected me ⇝ twitter DMs work better than cold emails.\n",
            "\n",
            "SKILLS\n",
            "\n",
            "French\n",
            "German\n",
            "Software\n",
            "\n",
            "Never really worked on my written french. My reading speed in French is abysmal.\n",
            "Never took German class seriously. My speaking skills are abysmal.\n",
            "I struggle to get the hang of JS for a long time.\n",
            "\n",
            "ACHIEVEMENTS AND INTERESTS\n",
            "(cid:114) Dropped out of University Club summer 2021 as the team lead. ⇝ Don’t bite off more than you can\n",
            "\n",
            "chew. Don’t accept something just because you can.\n",
            "\n",
            "(cid:114) Didn’t complete the 2021 DEFG international math competition final round because of self-esteem issues.\n",
            "\n",
            "⇝ Don’t be scared of losing at stuff. Nothing ever comes out of self pity.\n",
            "\n",
            "(cid:114) Never applied to University entrance scholarship ⇝ this would have been good to have, as a credential,\n",
            "\n",
            "and for money, even though the fees are not too dear here it’s still easy money.\n",
            "\n",
            "(cid:114) I haven’t played any music in years ⇝ sometimes you need to make sacrifices to get what you want.\n",
            "You can’t have everything you want at the same time. Though sad I think it was a good decision.\n",
            "\n",
            "\f\n"
          ]
        }
      ]
    },
    {
      "cell_type": "code",
      "source": [
        "input = InputData()\n",
        "llm = input.llm()\n",
        "data = llm.invoke(input.input_data(text))"
      ],
      "metadata": {
        "id": "UM6A56iAOLIO"
      },
      "execution_count": 48,
      "outputs": []
    },
    {
      "cell_type": "code",
      "source": [
        "# print(data)\n",
        "pretty_print_model_output(data)"
      ],
      "metadata": {
        "colab": {
          "base_uri": "https://localhost:8080/"
        },
        "id": "2zEnlHBvOhcw",
        "outputId": "ce020f3c-348e-4fe3-bfaf-43d366b5609b"
      },
      "execution_count": 46,
      "outputs": [
        {
          "output_type": "stream",
          "name": "stdout",
          "text": [
            "{\n",
            "    \"name\": \"Jane Doe\",\n",
            "    \"email\" : \"jane.doe@gmail.com\",\n",
            "    \"phone_1\": \"+1 (123) 456 7898\",\n",
            "    \"phone_2\": \"\",\n",
            "    \"address\": \"\",\n",
            "    \"city\": \"\",\n",
            "    \"linkedin\": \"\",\n",
            "    \"professional_experience_in_years\": \"\",\n",
            "    \"highest_education\": \"High school\",\n",
            "    \"is_fresher\": \"Not provided\",\n",
            "    \"is_student\": \"Not provided\",\n",
            "    \"skills\": [\"French\", \"German\", \"Software\"],\n",
            "    \"applied_for_profile\": \"\",\n",
            "    \"education\": [\n",
            "        {\n",
            "            \"institute_name\": \"Not provided\",\n",
            "            \"year_of_passing\": \"\",\n",
            "            \"score\": \"\"\n",
            "        },\n",
            "        {\n",
            "            \"institute_name\": \"\",\n",
            "            \"year_of_passing\": \"\",\n",
            "            \"score\": \"\"\n",
            "        }\n",
            "    ],\n",
            "    \"professional_experience\": [\n",
            "        {\n",
            "            \"organisation_name\": \"XYZ\",\n",
            "            \"duration\": \"Summer 2021\",\n",
            "            \"profile\": \"Rejected\"\n",
            "        },\n",
            "        {\n",
            "            \"organisation_name\": \"Alibaba\",\n",
            "            \"duration\": \"Summer 2021\",\n",
            "            \"profile\": \"Didn't participate in the final round\"\n",
            "        }\n",
            "    ]\n",
            "}\n",
            "{'refusal': None}\n",
            "{'finish_reason': 'stop',\n",
            " 'logprobs': None,\n",
            " 'model_name': 'neuralmagic/Meta-Llama-3.1-70B-Instruct-quantized.w8a8',\n",
            " 'system_fingerprint': None,\n",
            " 'token_usage': {'completion_tokens': 252,\n",
            "                 'completion_tokens_details': None,\n",
            "                 'prompt_tokens': 906,\n",
            "                 'prompt_tokens_details': None,\n",
            "                 'total_tokens': 1158}}\n"
          ]
        }
      ]
    }
  ]
}