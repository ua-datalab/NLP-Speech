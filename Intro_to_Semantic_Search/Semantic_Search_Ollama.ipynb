{
  "nbformat": 4,
  "nbformat_minor": 0,
  "metadata": {
    "colab": {
      "provenance": [],
      "gpuType": "T4",
      "authorship_tag": "ABX9TyPeAmj8BlBuNqgkb6R2Knqw",
      "include_colab_link": true
    },
    "kernelspec": {
      "name": "python3",
      "display_name": "Python 3"
    },
    "language_info": {
      "name": "python"
    },
    "accelerator": "GPU"
  },
  "cells": [
    {
      "cell_type": "markdown",
      "metadata": {
        "id": "view-in-github",
        "colab_type": "text"
      },
      "source": [
        "<a href=\"https://colab.research.google.com/github/ua-datalab/NLP-Speech/blob/main/Intro_to_Semantic_Search/Semantic_Search_Ollama.ipynb\" target=\"_parent\"><img src=\"https://colab.research.google.com/assets/colab-badge.svg\" alt=\"Open In Colab\"/></a>"
      ]
    },
    {
      "cell_type": "markdown",
      "source": [
        "# Semantic Search with Ollama"
      ],
      "metadata": {
        "id": "zgbBorO-OkX_"
      }
    },
    {
      "cell_type": "code",
      "execution_count": null,
      "metadata": {
        "id": "OOL7LsWIIVYd"
      },
      "outputs": [],
      "source": [
        "# install and download ollama with dependencies\n",
        "! sudo apt-get install -y pciutils\n",
        "!curl https://ollama.ai/install.sh | sh\n",
        "!pip install ollama chromadb"
      ]
    },
    {
      "cell_type": "code",
      "source": [
        "# import necessary python libraries\n",
        "import os\n",
        "import threading\n",
        "import subprocess\n",
        "import requests\n",
        "import json\n",
        "\n",
        "def ollama():\n",
        "    os.environ['OLLAMA_HOST'] = '0.0.0.0:11434'\n",
        "    os.environ['OLLAMA_ORIGINS'] = '*'\n",
        "    subprocess.Popen([\"ollama\", \"serve\"])"
      ],
      "metadata": {
        "id": "B5V87swRIce8"
      },
      "execution_count": 4,
      "outputs": []
    },
    {
      "cell_type": "code",
      "source": [
        "# start Ollama\n",
        "ollama_thread = threading.Thread(target=ollama)\n",
        "ollama_thread.start()"
      ],
      "metadata": {
        "id": "0CrCAOHGIyC7"
      },
      "execution_count": 5,
      "outputs": []
    },
    {
      "cell_type": "code",
      "source": [
        "# run embedding model\n",
        "! ollama run mxbai-embed-large"
      ],
      "metadata": {
        "id": "iU97asu-JD7-"
      },
      "execution_count": null,
      "outputs": []
    },
    {
      "cell_type": "markdown",
      "source": [
        "## Set up documents\n",
        "\n",
        "For this mini-example, we will set up 50 'documents'  containing information about Google.\n",
        "\n",
        "Next we will extract embeddings for them, and store them in a database."
      ],
      "metadata": {
        "id": "jzwWve63fInU"
      }
    },
    {
      "cell_type": "code",
      "source": [
        "# set up documents (only 50, so results will be limited)\n",
        "import ollama\n",
        "import chromadb\n",
        "\n",
        "documents = [\n",
        "    \"Google was founded in 1998 by Larry Page and Sergey Brin.\",\n",
        "    \"It started as a search engine but has since expanded into various services.\",\n",
        "    \"Google's mission is to organize the world's information and make it universally accessible.\",\n",
        "    \"The company is known for its innovative products, including Google Maps and Google Drive.\",\n",
        "    \"Google has made significant investments in artificial intelligence and machine learning.\",\n",
        "    \"The Google Chrome browser is one of the most popular web browsers worldwide.\",\n",
        "    \"Google's parent company is Alphabet Inc., established in 2015.\",\n",
        "    \"The company is also involved in initiatives like Google Cloud and autonomous vehicles.\",\n",
        "    \"Google Search uses complex algorithms to deliver relevant results.\",\n",
        "    \"The Google Play Store offers millions of apps for Android devices.\",\n",
        "    \"YouTube, owned by Google, is the largest video-sharing platform globally.\",\n",
        "    \"Google Ads provides businesses with tools for online advertising.\",\n",
        "    \"Google Analytics helps website owners track and analyze web traffic.\",\n",
        "    \"The company has a significant focus on user privacy and data security.\",\n",
        "    \"Google's headquarters, known as the Googleplex, is located in Mountain View, California.\",\n",
        "    \"Google has a global presence, with offices in numerous countries.\",\n",
        "    \"The company launched its own smartphone line under the Pixel brand.\",\n",
        "    \"Google Assistant is an AI-powered virtual assistant available on many devices.\",\n",
        "    \"Gmail, Google's email service, has over 1.5 billion users worldwide.\",\n",
        "    \"Google Translate can translate text between multiple languages in real time.\",\n",
        "    \"The company regularly updates its search algorithms to improve accuracy.\",\n",
        "    \"Google Photos offers unlimited photo storage and smart organization features.\",\n",
        "    \"The Google Nest line includes smart home devices that integrate with Google Assistant.\",\n",
        "    \"Google has been a leader in the development of self-driving car technology.\",\n",
        "    \"The company invests heavily in renewable energy and sustainability initiatives.\",\n",
        "    \"Google Docs allows users to create and edit documents collaboratively online.\",\n",
        "    \"Google Scholar is a free search engine for scholarly literature.\",\n",
        "    \"The company promotes diversity and inclusion within its workforce.\",\n",
        "    \"Google’s research division has contributed to advancements in quantum computing.\",\n",
        "    \"The Chrome OS powers devices like Chromebooks, designed for cloud computing.\",\n",
        "    \"Google's Art Project allows users to explore artworks from museums worldwide.\",\n",
        "    \"The company frequently hosts events like Google I/O to showcase new technologies.\",\n",
        "    \"Google Fiber provides high-speed internet service in select U.S. cities.\",\n",
        "    \"The Android operating system, developed by Google, powers billions of devices.\",\n",
        "    \"Google's mobile-first indexing prioritizes mobile-friendly websites in search results.\",\n",
        "    \"The company has faced scrutiny over antitrust issues and data practices.\",\n",
        "    \"Google Earth enables users to explore 3D representations of the planet.\",\n",
        "    \"Google Keep is a note-taking service that syncs across devices.\",\n",
        "    \"The company has launched various initiatives to support education and research.\",\n",
        "    \"Google's algorithms use over 200 factors to rank search results.\",\n",
        "    \"The Google Chrome Web Store offers extensions to enhance browser functionality.\",\n",
        "    \"Google has acquired numerous companies to expand its product offerings.\",\n",
        "    \"The company emphasizes innovation through its '20% time' policy for employees.\",\n",
        "    \"Google Maps provides real-time traffic updates and navigation assistance.\",\n",
        "    \"The Google News service aggregates news articles from various sources.\",\n",
        "    \"Google has a dedicated team for addressing security vulnerabilities.\",\n",
        "    \"The company conducts extensive research in fields like natural language processing.\",\n",
        "    \"Google’s advertising revenue constitutes a significant portion of its income.\",\n",
        "    \"The Google API allows developers to integrate Google services into their applications.\",\n",
        "    \"The company actively participates in open-source projects.\",\n",
        "    \"Google's Doodle is a special logo displayed on its homepage to celebrate events.\",\n",
        "    \"The company has implemented measures to combat misinformation online.\",\n",
        "    \"Google's headquarters features unique workspaces and recreational areas for employees.\",\n",
        "    \"The company has launched various health initiatives using AI and technology.\"]\n",
        "\n",
        "# process documents\n",
        "client = chromadb.Client()\n",
        "collection = client.create_collection(name=\"docs\")\n",
        "\n",
        "# store each document in a vector embedding database\n",
        "for i, d in enumerate(documents):\n",
        "  response = ollama.embeddings(model=\"mxbai-embed-large\", prompt=d)\n",
        "  embedding = response[\"embedding\"]\n",
        "  collection.add(\n",
        "    ids=[str(i)],\n",
        "    embeddings=[embedding],\n",
        "    documents=[d]\n",
        "  )"
      ],
      "metadata": {
        "id": "dJTYcJ3eJ0mP"
      },
      "execution_count": 7,
      "outputs": []
    },
    {
      "cell_type": "markdown",
      "source": [
        "## Querying\n",
        "\n",
        "Next, we will query our documents to answer a user provided question. In the codeblock below, you can change the prompt to query the documents differently.\n",
        "\n",
        "The result will be all documents that contain relevant information for the prompt."
      ],
      "metadata": {
        "id": "ApcbfGghfhq-"
      }
    },
    {
      "cell_type": "code",
      "source": [
        "# an example prompt\n",
        "prompt = \"Which country is google in?\"\n",
        "\n",
        "# generate an embedding for the prompt and retrieve the most relevant doc\n",
        "response = ollama.embeddings(\n",
        "  prompt=prompt,\n",
        "  model=\"mxbai-embed-large\"\n",
        ")\n",
        "\n",
        "results = collection.query(\n",
        "  query_embeddings=[response[\"embedding\"]],\n",
        "  n_results=5\n",
        ")\n",
        "# get results\n",
        "data = results['documents'][0][:]"
      ],
      "metadata": {
        "id": "70bleqNfMZs0"
      },
      "execution_count": 8,
      "outputs": []
    },
    {
      "cell_type": "code",
      "source": [
        "data"
      ],
      "metadata": {
        "id": "o1KAjBZZM6my",
        "outputId": "6ec40d6d-f0b0-442a-c42b-867c0705bf4f",
        "colab": {
          "base_uri": "https://localhost:8080/"
        }
      },
      "execution_count": 9,
      "outputs": [
        {
          "output_type": "execute_result",
          "data": {
            "text/plain": [
              "['Google has a global presence, with offices in numerous countries.',\n",
              " \"Google's headquarters, known as the Googleplex, is located in Mountain View, California.\",\n",
              " 'The company is known for its innovative products, including Google Maps and Google Drive.',\n",
              " \"Google's mission is to organize the world's information and make it universally accessible.\",\n",
              " 'Google was founded in 1998 by Larry Page and Sergey Brin.']"
            ]
          },
          "metadata": {},
          "execution_count": 9
        }
      ]
    },
    {
      "cell_type": "code",
      "source": [],
      "metadata": {
        "id": "oxp46N_fe0wt"
      },
      "execution_count": null,
      "outputs": []
    }
  ]
}