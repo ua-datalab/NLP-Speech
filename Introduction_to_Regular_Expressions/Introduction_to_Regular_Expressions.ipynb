{
  "cells": [
    {
      "cell_type": "markdown",
      "metadata": {
        "id": "view-in-github",
        "colab_type": "text"
      },
      "source": [
        "<a href=\"https://colab.research.google.com/github/ua-datalab/NLP-Speech/blob/main/Introduction_to_Regular_Expressions/Introduction_to_Regular_Expressions.ipynb\" target=\"_parent\"><img src=\"https://colab.research.google.com/assets/colab-badge.svg\" alt=\"Open In Colab\"/></a>"
      ]
    },
    {
      "cell_type": "markdown",
      "metadata": {
        "id": "9Vi2j_4KbmBu"
      },
      "source": [
        "# Introduction to Regular Expressions (RegEx)\n",
        "\n",
        "![](https://raw.githubusercontent.com/ua-datalab/NLP-Speech/main/Introduction_to_Regular_Expressions/regex_header.avif)\n",
        "\n",
        "Image Credit: [Real Python: Regular Expressions: Regexes in Python ](https://realpython.com/regex-python/)\n",
        "\n",
        "## Quick Housekeeping\n",
        "- Check screenshare\n",
        "- Ensure in-person attendees have access\n",
        "- Post link in zoom chat\n",
        "- Discuss series and other workshops"
      ]
    },
    {
      "cell_type": "markdown",
      "metadata": {
        "id": "E11j3mhXcE4h"
      },
      "source": [
        "## The What\n",
        "\n",
        "### What are regular expressions?\n",
        "Regular expressions are a **combination of symbols and characters** that can be used to **intelligently and speedily** perform **pattern matching for text**. They have unicode compatibility, meaning they can work on multiple languages, scientific symbols and scripts.\n",
        "\n",
        "In combination with other tools, they alow for efficient text scraping, filtering, and advanced find-and-replace programs.\n",
        "\n",
        "What are some use cases for RegEx in your work?\n",
        "\n",
        "### Brief history\n",
        "- Introduced to solve editing and string matching problems in the 1950s\n",
        "- Built into advanced functions in Perl once nLP began to take off\n",
        "- Very important for many pre-processing steps"
      ]
    },
    {
      "cell_type": "markdown",
      "source": [
        "![](https://github.com/ua-datalab/NLP-Speech/blob/main/Introduction_to_Regular_Expressions/regular_expressions.png?raw=true)\n"
      ],
      "metadata": {
        "id": "HdHfVHIuS52Z"
      }
    },
    {
      "cell_type": "markdown",
      "source": [
        "### Terminology\n",
        "(We will refer back to this section throughout the session)\n",
        "\n",
        "- **Pattern**: a contruction that will be matched across the text. Example: `and\\..*`\n",
        "- **String**: test string used to match the pattern\n",
        "- **Character**: refers to a letter, digit or symbol\n",
        "- **Letters, digits and alphanumeric characters**: roman letters (`[a-z][A-Z]`), numbers from 0 to 9 (`[0-9]` or `\\d`. Together with the underscore `_`, they are represented by `\\w`.  \n",
        "- **Meta characters**: special symbols used in regular expressions. You will need to escape `\\` to use them literally. See examples below.\n",
        "- **Space**: `\\s`\n",
        "- **Newline**: `\\n`\n",
        "- **Wildcard**\n",
        "  - **dots**: `.` One or more\n",
        "  - **stars**: `*` Zero or more\n",
        "- **Brackets**:\n",
        "  - **Curly**: Quantifiers. `{n}, {n,}, {n,m}`\n",
        "  - **Square**: list of characters. `[?4s*]{3}`\n",
        "  - **Round**: used to group characters together. `c(at)`\n",
        "- **Anchors** start of line `^`(when used outside a list) end of line `?`"
      ],
      "metadata": {
        "id": "UOcPja38S3rj"
      }
    },
    {
      "cell_type": "markdown",
      "metadata": {
        "id": "gtY5xx2RA8jI"
      },
      "source": [
        "## The Why\n",
        "\n",
        "- Advanced searches are the backbone of any strong data cleaning pipeline, and an initial step to any major NLP task.\n",
        "- Search pipelines often contain regular expressions, and having a good intuition of how they work gives us a better look under the hood.\n",
        "- Regex is a search option in most popular text editing platforms.\n",
        "- Consider this as an exploration of assessing if your project needs an LLM, or just advanced search!"
      ]
    },
    {
      "cell_type": "markdown",
      "metadata": {
        "id": "9-M_A9HY1buY"
      },
      "source": [
        "## The How\n",
        "### How to I validate my regular expression?\n",
        "- Online platforms such as [regex101](https://regex101.com/)\n",
        "- Brainstorming with LLMs\n",
        "\n",
        "### How do I use regex with different platforms?\n",
        "\n",
        "\n",
        "\n"
      ]
    },
    {
      "cell_type": "code",
      "execution_count": null,
      "metadata": {
        "id": "uQOPG8CcBBfZ"
      },
      "outputs": [],
      "source": [
        "# Regex on the CLI\n",
        "#  Extract a phone number with grep\n",
        "!echo \"Please call back at 111-092-0192\" | grep -oE '[0-9-]+'"
      ]
    },
    {
      "cell_type": "code",
      "execution_count": null,
      "metadata": {
        "id": "FlS1KGeLDe2e"
      },
      "outputs": [],
      "source": [
        "# Regex with Python\n",
        "#  re.match returns a boolean value for the first match it finds\n",
        "#  at the beginning of a string.\n",
        "\n",
        "import re\n",
        "\n",
        "def regex_match(pattern, string): #function takes two inputs\n",
        "    result = re.match(pattern, string) #regex execution\n",
        "    if result:\n",
        "        print(f\"The input \\\"{string}\\\" is a regex match for \\\"{pattern}\\\".\")\n",
        "    else:\n",
        "        print(f\"The input \\\"{string}\\\" is not a regex match for \\\"{pattern}\\\".\")\n",
        "    return None"
      ]
    },
    {
      "cell_type": "code",
      "source": [
        "#Some more examples for patterns discussed above:\n",
        "\n",
        "# Wildcard\n",
        "# dots: . One or more\n",
        "# stars: * Zero or more\n",
        "regex_match(pattern=\"T+[a-z]+\", string=\"A cat.\")\n",
        "regex_match(pattern=\"T+[a-z]+\", string=\"Tthe cat.\")\n",
        "regex_match(pattern=\"T+[a-z]+\", string=\"The cat.\")\n",
        "\n",
        "# Letters, digits and alphanumeric characters:\n",
        "regex_match(pattern=\"\\w.*\", string=\"alphanummeric string 1.\")\n",
        "regex_match(pattern=\"[A-Z].*\", string=\"This line begins with capitalization.\")\n",
        "\n",
        "# Space: `\\s`\n",
        "regex_match(pattern=\".+\\s.+\", string=\"spaces in line.\")\n",
        "\n",
        "# Newline: `\\n`\n",
        "regex_match(pattern=\"[A-Z].*\\n[A-Z].*\", string=\"First line.\\nNext line.\")\n",
        "\n",
        "# Other Brackets:\n",
        "  # Curly: Quantifiers. `{n}, {n,}, {n,m}`\n",
        "regex_match(pattern=\"T[a-z]{2}\", string=\"The cat.\")\n",
        "regex_match(pattern=\"T[a-z]{2}\", string=\"To cat.\")\n",
        "regex_match(pattern=\"T[a-z]{1,2}\", string=\"To cat.\")\n",
        "\n",
        "  # Round: used to group characters together. `c(at)`\n",
        "regex_match(pattern=\".*c(at)\", string=\"A cat\")\n",
        "\n",
        "#Anchors** start of line `^`(when used outside a list) end of line `?`\n",
        "regex_match(pattern=\"^A.*c(at)\", string=\"A cat.\")\n",
        "regex_match(pattern=\"^[A-Z].*c(at)\", string=\"Cats are cool.\")\n",
        "regex_match(pattern=\".*c(at).*\\.$\", string=\"A cat is a mammal.\")"
      ],
      "metadata": {
        "id": "pe7z6SVAs3na"
      },
      "execution_count": null,
      "outputs": []
    },
    {
      "cell_type": "code",
      "execution_count": null,
      "metadata": {
        "id": "7JMA-PZtDhx8"
      },
      "outputs": [],
      "source": [
        "# Regex with R\n",
        "# activate R magic\n",
        "%load_ext rpy2.ipython"
      ]
    },
    {
      "cell_type": "code",
      "execution_count": null,
      "metadata": {
        "id": "tQn3JMfpk1vu"
      },
      "outputs": [],
      "source": [
        "# We can use the R grep or grepl libraries:\n",
        "%%R\n",
        "\n",
        "text <- c(\"Please call back at 111-092-0192\", \"Our number is 093-817-9281\", \"we have no callback number.\")\n",
        "pattern <- \"[0-9]+\"\n",
        "matches <- grep(pattern, text, value = TRUE)\n",
        "\n",
        "print(matches)"
      ]
    },
    {
      "cell_type": "markdown",
      "metadata": {
        "id": "8ry_IrPpCEND"
      },
      "source": [
        "## Group Project\n",
        "The task: Take a look at a fraudulent emails dataset, to extract some parts of the email bodies. Tasks could include:\n",
        "- Capturing sender email IDs\n",
        "- Reading subject lines\n",
        "- Capturing lines with the email text\n",
        "\n",
        "Aim: Consider this a text pre-processing step, where we are looking at our dataset, extracting different components that we may need\n",
        "\n",
        "\n",
        " Dataset: https://www.kaggle.com/datasets/rtatman/fraudulent-email-corpus"
      ]
    },
    {
      "cell_type": "code",
      "execution_count": null,
      "metadata": {
        "id": "6qb7m7Q_J9zO"
      },
      "outputs": [],
      "source": [
        "# Load the dataset\n",
        "import base64\n",
        "import requests\n",
        "\n",
        "master = \"https://raw.githubusercontent.com/JSemelhago/FraudEmailAnalysis/master/data/fraudulent_emails.txt\"\n",
        "req = requests.get(master)\n",
        "\n",
        "# For ease, let's split the dataset by line\n",
        "email_corpus = req.text.splitlines()"
      ]
    },
    {
      "cell_type": "code",
      "execution_count": null,
      "metadata": {
        "collapsed": true,
        "id": "GOv-UExPNGhR"
      },
      "outputs": [],
      "source": [
        "# Print some lines:\n",
        "for line in email_corpus[:300]:\n",
        "  print(line)\n"
      ]
    },
    {
      "cell_type": "markdown",
      "metadata": {
        "id": "u2hB83RNNFW7"
      },
      "source": [
        "### What are some relevant portions of this corpus that we may need to extract?\n",
        "- From or return email ID\n",
        "- Subject\n",
        "- The message itself\n",
        "\n",
        "### Determining the pattern for each relevant element\n",
        "- Check for newline, capitalization, symbols\n",
        "- Consider the pattern for assessing what makes an email sound like spam (\"unique opportunity\", if the sender is royalty, text in all caps, html tags in the content).\n",
        "\n",
        "<details>\n",
        "<summary><strong>Pattern for elements of each email </strong></summary>\n",
        "<ul>\n",
        "<li> Capitalized letter at the beginning of the line, followed by heading and a colon and a space </li>\n",
        "<li> Return path has all these, plus < > enclosing the email ID</li>\n",
        "</ul>\n",
        "</details>\n",
        "\n",
        "Let's try to locate all sender IDs and save them:"
      ]
    },
    {
      "cell_type": "code",
      "execution_count": null,
      "metadata": {
        "id": "jENEKu1DSaq-"
      },
      "outputs": [],
      "source": [
        "import re\n",
        "#Look for \"From: in the beginning of the sentence\"\n",
        "# ignore everything until an angular bracket is seen\n",
        "# ignore everything after closing bracket\n",
        "\n",
        "sender_addresses = []\n",
        "for line in email_corpus:\n",
        "  pattern = r\"^[Ff]rom:.+<(.+?)>\"\n",
        "  match = re.search(pattern, line)\n",
        "  if match:\n",
        "      sender_addresses.append(match.group(1))\n",
        "# print(sender_addresses)\n",
        "# print(len(sender_addresses))"
      ]
    },
    {
      "cell_type": "markdown",
      "metadata": {
        "id": "ZOPjqlPZfGJp"
      },
      "source": [
        "Try extracting the subject of emails. You can use the code above.\n",
        "\n"
      ]
    },
    {
      "cell_type": "code",
      "execution_count": null,
      "metadata": {
        "id": "eWtVXhk4fFS9"
      },
      "outputs": [],
      "source": [
        "## Add your code here"
      ]
    },
    {
      "cell_type": "markdown",
      "metadata": {
        "id": "nIEIdjxlf97S"
      },
      "source": [
        "How about exploring the various salutations?"
      ]
    },
    {
      "cell_type": "code",
      "source": [
        "# How many times does an email begin with \"dear\", or \"attention\"?\n",
        "\n",
        "salutations = []\n",
        "for line in email_corpus:\n",
        "  pattern = r\"(^dear\\s|attention\\s)\"\n",
        "  match = re.search(pattern, line, re.IGNORECASE)\n",
        "  if match:\n",
        "      salutations.append(match.group(1))\n",
        "print(len(salutations))"
      ],
      "metadata": {
        "id": "0-_WmKONRuUh"
      },
      "execution_count": null,
      "outputs": []
    },
    {
      "cell_type": "markdown",
      "source": [
        "How would you examine the email contents for weird elements?\n",
        "- Text in all caps\n",
        "- HTML tags in the text\n",
        "- strings containing non-alphanumeric symbols"
      ],
      "metadata": {
        "id": "Z_An3DYWy_nn"
      }
    },
    {
      "cell_type": "code",
      "source": [
        "## Add your code here"
      ],
      "metadata": {
        "id": "W-Q7GW8lzEdP"
      },
      "execution_count": null,
      "outputs": []
    },
    {
      "cell_type": "markdown",
      "source": [
        "<details>\n",
        "<summary><strong>How difficult would it be to extract the email body from this dataset?  </strong></summary>\n",
        "\n",
        "Consider the following regular expression that extracts all the content that is between a \"Status:...\" line, and the next \"From r...\" line, which woughly corresponds to the body of the email.\n",
        "```\n",
        "# code for extracting email body:\n",
        "pattern = r\"Status:\\s+O\\n+(.*?)(?=\\nFrom:|$)\"\n",
        "matches = re.findall(pattern, req.text, re.DOTALL)\n",
        "\n",
        "print(matches[2])\n",
        "print(\"number of matches for email body: \",len(matches))\n",
        "```\n",
        "To get a sense of challenge of this NLP task, let us examine how complex this regex task is. Read different outputs, and compare how many matches this returned, vs number of actual emails (how would be get a sense of that number?).\n",
        "\n",
        "At their core language models have been working on problems such as this one, that now, they can generate regular expressions with simple prompts!\n",
        "\n",
        "\n",
        "</details>\n",
        "\n"
      ],
      "metadata": {
        "id": "gJORhqj5TKEQ"
      }
    },
    {
      "cell_type": "markdown",
      "metadata": {
        "id": "HjAs8MsRCCz1"
      },
      "source": [
        "## Further reading and resources\n",
        "- Regex Cookbook\n",
        "- Platforms\n",
        "- Regex crossword\n",
        "- [Learn Regex: A Beginner’s Guide](https://www.sitepoint.com/learn-regex/)\n",
        "-  [RegexOne: Learn Regular Expressions with simple, interactive exercises](https://www.regexone.com/)"
      ]
    }
  ],
  "metadata": {
    "colab": {
      "provenance": [],
      "authorship_tag": "ABX9TyO55NDeijYwQGnJlzDTER8t",
      "include_colab_link": true
    },
    "kernelspec": {
      "display_name": "Python 3",
      "name": "python3"
    },
    "language_info": {
      "name": "python"
    }
  },
  "nbformat": 4,
  "nbformat_minor": 0
}