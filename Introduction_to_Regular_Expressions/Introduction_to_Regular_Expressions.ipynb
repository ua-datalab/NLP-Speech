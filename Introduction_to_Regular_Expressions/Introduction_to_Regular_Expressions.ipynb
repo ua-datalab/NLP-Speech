{
  "cells": [
    {
      "cell_type": "markdown",
      "metadata": {
        "id": "view-in-github",
        "colab_type": "text"
      },
      "source": [
        "<a href=\"https://colab.research.google.com/github/ua-datalab/NLP-Speech/blob/main/Introduction_to_Regular_Expressions/Introduction_to_Regular_Expressions.ipynb\" target=\"_parent\"><img src=\"https://colab.research.google.com/assets/colab-badge.svg\" alt=\"Open In Colab\"/></a>"
      ]
    },
    {
      "cell_type": "markdown",
      "metadata": {
        "id": "9Vi2j_4KbmBu"
      },
      "source": [
        "# Introduction to Regular Expressions (RegEx)\n",
        "\n",
        "![](https://raw.githubusercontent.com/ua-datalab/NLP-Speech/main/Introduction_to_Regular_Expressions/regex_header.avif)\n",
        "\n",
        "Image Credit: [Real Python: Regular Expressions: Regexes in Python ](https://realpython.com/regex-python/)\n",
        "\n",
        "## Quick Housekeeping\n",
        "- Start recording, become cohost.\n",
        "- Login to Room's PC and signin to Zoom.\n",
        "- Check screenshare.\n",
        "- Ensure in-person attendees have access to materials.\n",
        "- Post link in zoom chat.\n",
        "- Discuss series and other workshops."
      ]
    },
    {
      "cell_type": "markdown",
      "metadata": {
        "id": "E11j3mhXcE4h"
      },
      "source": [
        "## The What\n",
        "\n",
        "### What are regular expressions?\n",
        "Regular expressions are a **combination of symbols and characters** that can be used to **intelligently and speedily** perform **pattern matching for text**. They have unicode compatibility, meaning they can work on multiple languages, scientific symbols and scripts.\n",
        "\n",
        "In combination with other tools, they alow for efficient text scraping, filtering, and advanced find-and-replace programs.\n",
        "\n",
        "What are some use cases for RegEx in your work?\n",
        "\n",
        "### Brief history\n",
        "- Introduced to solve editing and string matching problems in the 1950s\n",
        "- Built into advanced functions in Perl once nLP began to take off\n",
        "- Very important for many pre-processing steps"
      ]
    },
    {
      "cell_type": "markdown",
      "source": [
        "![](https://github.com/ua-datalab/NLP-Speech/blob/main/Introduction_to_Regular_Expressions/regular_expressions.png?raw=true)\n"
      ],
      "metadata": {
        "id": "HdHfVHIuS52Z"
      }
    },
    {
      "cell_type": "markdown",
      "source": [
        "### Terminology\n",
        "(We will refer back to this section throughout the session)\n",
        "\n",
        "- **Pattern**: a contruction that will be matched across the text. Example: `and\\..*`\n",
        "- **String**: test string used to match the pattern\n",
        "- **Character**: refers to a letter, digit or symbol\n",
        "- **Letters, digits and alphanumeric characters**: roman letters (`[a-z][A-Z]`), numbers from 0 to 9 (`[0-9]` or `\\d`. Together with the underscore `_`, they are represented by `\\w`.  \n",
        "- **Meta characters**: special symbols used in regular expressions. You will need to escape `\\` to use them literally. See examples below.\n",
        "- **Space**: `\\s`\n",
        "- **Newline**: `\\n`\n",
        "- **Wildcard**\n",
        "  - **dots**: `.` One or more\n",
        "  - **stars**: `*` Zero or more\n",
        "- **Brackets**:\n",
        "  - **Curly**: Quantifiers. `{n}, {n,}, {n,m}`\n",
        "  - **Square**: list of characters. `[?4s*]{3}`\n",
        "  - **Round**: used to group characters together. `c(at)`\n",
        "- **Anchors** start of line `^`(when used outside a list) end of line `?`"
      ],
      "metadata": {
        "id": "UOcPja38S3rj"
      }
    },
    {
      "cell_type": "markdown",
      "metadata": {
        "id": "gtY5xx2RA8jI"
      },
      "source": [
        "## The Why\n",
        "\n",
        "- Advanced searches are the backbone of any strong data cleaning pipeline, and an initial step to any major NLP task.\n",
        "- Search pipelines often contain regular expressions, and having a good intuition of how they work gives us a better look under the hood.\n",
        "- Regex is a search option in most popular text editing platforms.\n",
        "- Consider this as an exploration of assessing if your project needs an LLM, or just advanced search!"
      ]
    },
    {
      "cell_type": "markdown",
      "source": [
        "> **Caution: RegEx opens up its own portal of doom**\n",
        ">\n",
        "> <img src=\"https://github.com/ua-datalab/NLP-Speech/blob/main/Introduction_to_Regular_Expressions/IMG_3572.JPG?raw=true\" width=\"500\" />"
      ],
      "metadata": {
        "id": "53gVPI-fdft_"
      }
    },
    {
      "cell_type": "markdown",
      "metadata": {
        "id": "9-M_A9HY1buY"
      },
      "source": [
        "## The How\n",
        "### How to I validate my regular expression?\n",
        "- Online platforms such as [regex101](https://regex101.com/)\n",
        "- Brainstorming with LLMs\n",
        "\n",
        "### How do I use regex with different platforms?\n",
        "\n",
        "\n",
        "\n"
      ]
    },
    {
      "cell_type": "code",
      "execution_count": 1,
      "metadata": {
        "id": "uQOPG8CcBBfZ",
        "colab": {
          "base_uri": "https://localhost:8080/"
        },
        "outputId": "d8d87d4d-948b-4f58-bd8c-c53edb7b181b"
      },
      "outputs": [
        {
          "output_type": "stream",
          "name": "stdout",
          "text": [
            "111-092-0192\n"
          ]
        }
      ],
      "source": [
        "# Regex on the CLI\n",
        "#  Extract a phone number with grep\n",
        "!echo \"Please call back at 111-092-0192\" | grep -oE '[0-9-]+'"
      ]
    },
    {
      "cell_type": "code",
      "execution_count": 2,
      "metadata": {
        "id": "FlS1KGeLDe2e"
      },
      "outputs": [],
      "source": [
        "# Regex with Python\n",
        "#  re.match returns a boolean value for the first match it finds\n",
        "#  at the beginning of a string.\n",
        "\n",
        "import re\n",
        "\n",
        "def regex_match(pattern, string): #function takes two inputs\n",
        "    result = re.match(pattern, string) #regex execution\n",
        "    if result:\n",
        "        print(f\"The input \\\"{string}\\\" is a regex match for \\\"{pattern}\\\".\")\n",
        "    else:\n",
        "        print(f\"The input \\\"{string}\\\" is not a regex match for \\\"{pattern}\\\".\")\n",
        "    return None"
      ]
    },
    {
      "cell_type": "code",
      "source": [
        "#Some more examples for patterns discussed above:\n",
        "\n",
        "# Wildcard\n",
        "# dots: . One or more\n",
        "# stars: * Zero or more\n",
        "regex_match(pattern=\"T+[a-z]+\", string=\"A cat.\")\n",
        "regex_match(pattern=\"T+[a-z]+\", string=\"Tthe cat.\")\n",
        "regex_match(pattern=\"T+[a-z]+\", string=\"The cat.\")\n",
        "\n",
        "# Letters, digits and alphanumeric characters:\n",
        "regex_match(pattern=\"\\w.*\", string=\"alphanummeric string 1.\")\n",
        "regex_match(pattern=\"[A-Z].*\", string=\"This line begins with capitalization.\")\n",
        "\n",
        "# Space: `\\s`\n",
        "regex_match(pattern=\".+\\s.+\", string=\"spaces in line.\")\n",
        "\n",
        "# Newline: `\\n`\n",
        "regex_match(pattern=\"[A-Z].*\\n[A-Z].*\", string=\"First line.\\nNext line.\")\n",
        "\n",
        "# Other Brackets:\n",
        "  # Curly: Quantifiers. `{n}, {n,}, {n,m}`\n",
        "regex_match(pattern=\"T[a-z]{2}\", string=\"The cat.\")\n",
        "regex_match(pattern=\"T[a-z]{2}\", string=\"To cat.\")\n",
        "regex_match(pattern=\"T[a-z]{1,2}\", string=\"To cat.\")\n",
        "\n",
        "  # Round: used to group characters together. `c(at)`\n",
        "regex_match(pattern=\".*c(at)\", string=\"A cat\")\n",
        "\n",
        "#Anchors** start of line `^`(when used outside a list) end of line `?`\n",
        "regex_match(pattern=\"^A.*c(at)\", string=\"A cat.\")\n",
        "regex_match(pattern=\"^[A-Z].*c(at)\", string=\"Cats are cool.\")\n",
        "regex_match(pattern=\".*c(at).*\\.$\", string=\"A cat is a mammal.\")"
      ],
      "metadata": {
        "id": "pe7z6SVAs3na",
        "colab": {
          "base_uri": "https://localhost:8080/"
        },
        "outputId": "e720203d-aedf-466e-f9b0-85f91391f4f3"
      },
      "execution_count": 3,
      "outputs": [
        {
          "output_type": "stream",
          "name": "stdout",
          "text": [
            "The input \"A cat.\" is not a regex match for \"T+[a-z]+\".\n",
            "The input \"Tthe cat.\" is a regex match for \"T+[a-z]+\".\n",
            "The input \"The cat.\" is a regex match for \"T+[a-z]+\".\n",
            "The input \"alphanummeric string 1.\" is a regex match for \"\\w.*\".\n",
            "The input \"This line begins with capitalization.\" is a regex match for \"[A-Z].*\".\n",
            "The input \"spaces in line.\" is a regex match for \".+\\s.+\".\n",
            "The input \"First line.\n",
            "Next line.\" is a regex match for \"[A-Z].*\n",
            "[A-Z].*\".\n",
            "The input \"The cat.\" is a regex match for \"T[a-z]{2}\".\n",
            "The input \"To cat.\" is not a regex match for \"T[a-z]{2}\".\n",
            "The input \"To cat.\" is a regex match for \"T[a-z]{1,2}\".\n",
            "The input \"A cat\" is a regex match for \".*c(at)\".\n",
            "The input \"A cat.\" is a regex match for \"^A.*c(at)\".\n",
            "The input \"Cats are cool.\" is not a regex match for \"^[A-Z].*c(at)\".\n",
            "The input \"A cat is a mammal.\" is a regex match for \".*c(at).*\\.$\".\n"
          ]
        }
      ]
    },
    {
      "cell_type": "code",
      "execution_count": 4,
      "metadata": {
        "id": "7JMA-PZtDhx8"
      },
      "outputs": [],
      "source": [
        "# Regex with R\n",
        "# activate R magic\n",
        "%load_ext rpy2.ipython"
      ]
    },
    {
      "cell_type": "code",
      "execution_count": 5,
      "metadata": {
        "id": "tQn3JMfpk1vu",
        "colab": {
          "base_uri": "https://localhost:8080/"
        },
        "outputId": "d121d732-2e86-4689-9342-6c525d0102cb"
      },
      "outputs": [
        {
          "output_type": "stream",
          "name": "stdout",
          "text": [
            "[1] \"Please call back at 111-092-0192\" \"Our number is 093-817-9281\"      \n"
          ]
        }
      ],
      "source": [
        "# We can use the R grep or grepl libraries:\n",
        "%%R\n",
        "\n",
        "text <- c(\"Please call back at 111-092-0192\", \"Our number is 093-817-9281\", \"we have no callback number.\")\n",
        "pattern <- \"[0-9]+\"\n",
        "matches <- grep(pattern, text, value = TRUE)\n",
        "\n",
        "print(matches)"
      ]
    },
    {
      "cell_type": "markdown",
      "source": [
        "\n",
        "#### Regex with Google search and operators:\n",
        "\n",
        "Google search allows users to formulate queries with regular expressions. Simply include your regex string within slashes like this: `\\`\n",
        "\n",
        "For example, here is a search query designed to search the Subreddit `r/regex`, and look for posts and comments containing digits posted after 2020:\n",
        "\n",
        "```\n",
        "/\\/.+\\/[0-9]/ site:https://www.reddit.com/r/regex/comments after:2020\n",
        "```\n"
      ],
      "metadata": {
        "id": "imPUjo9thX7J"
      }
    },
    {
      "cell_type": "markdown",
      "metadata": {
        "id": "8ry_IrPpCEND"
      },
      "source": [
        "## Group Project\n",
        "The task: Take a look at a fraudulent emails dataset, to extract some parts of the email bodies. Tasks could include:\n",
        "- Capturing sender email IDs\n",
        "- Reading subject lines\n",
        "- Capturing lines with the email text\n",
        "\n",
        "Aim: Consider this a text pre-processing step, where we are looking at our dataset, extracting different components that we may need\n",
        "\n",
        "\n",
        " Dataset: https://www.kaggle.com/datasets/rtatman/fraudulent-email-corpus"
      ]
    },
    {
      "cell_type": "code",
      "execution_count": 6,
      "metadata": {
        "id": "6qb7m7Q_J9zO"
      },
      "outputs": [],
      "source": [
        "# Load the dataset\n",
        "import base64\n",
        "import requests\n",
        "\n",
        "master = \"https://raw.githubusercontent.com/JSemelhago/FraudEmailAnalysis/master/data/fraudulent_emails.txt\"\n",
        "req = requests.get(master)\n",
        "\n",
        "# For ease, let's split the dataset by line\n",
        "email_corpus = req.text.splitlines()"
      ]
    },
    {
      "cell_type": "code",
      "execution_count": 7,
      "metadata": {
        "collapsed": true,
        "id": "GOv-UExPNGhR",
        "colab": {
          "base_uri": "https://localhost:8080/"
        },
        "outputId": "f31d6cc7-08c3-4a70-f28b-86081538055d"
      },
      "outputs": [
        {
          "output_type": "stream",
          "name": "stdout",
          "text": [
            "From r  Wed Oct 30 21:41:56 2002\n",
            "Return-Path: <james_ngola2002@maktoob.com>\n",
            "X-Sieve: cmu-sieve 2.0\n",
            "Return-Path: <james_ngola2002@maktoob.com>\n",
            "Message-Id: <200210310241.g9V2fNm6028281@cs.CU>\n",
            "From: \"MR. JAMES NGOLA.\" <james_ngola2002@maktoob.com>\n",
            "Reply-To: james_ngola2002@maktoob.com\n",
            "To: webmaster@aclweb.org\n",
            "Date: Thu, 31 Oct 2002 02:38:20 +0000\n",
            "Subject: URGENT BUSINESS ASSISTANCE AND PARTNERSHIP\n",
            "X-Mailer: Microsoft Outlook Express 5.00.2919.6900 DM\n",
            "MIME-Version: 1.0\n",
            "Content-Type: text/plain; charset=\"us-ascii\"\n",
            "Content-Transfer-Encoding: 8bit\n",
            "X-MIME-Autoconverted: from quoted-printable to 8bit by sideshowmel.si.UM id g9V2foW24311\n",
            "Status: O\n",
            "\n",
            "FROM:MR. JAMES NGOLA.\n",
            "CONFIDENTIAL TEL: 233-27-587908.\n",
            "E-MAIL: (james_ngola2002@maktoob.com).\n",
            "\n",
            "URGENT BUSINESS ASSISTANCE AND PARTNERSHIP.\n",
            "\n",
            "\n",
            "DEAR FRIEND,\n",
            "\n",
            "I AM ( DR.) JAMES NGOLA, THE PERSONAL ASSISTANCE TO THE LATE CONGOLESE (PRESIDENT LAURENT KABILA) WHO WAS ASSASSINATED BY HIS BODY GUARD ON 16TH JAN. 2001.\n",
            "\n",
            "\n",
            "THE INCIDENT OCCURRED IN OUR PRESENCE WHILE WE WERE HOLDING MEETING WITH HIS EXCELLENCY OVER THE FINANCIAL RETURNS FROM THE DIAMOND SALES IN THE AREAS CONTROLLED BY (D.R.C.) DEMOCRATIC REPUBLIC OF CONGO FORCES AND THEIR FOREIGN ALLIES ANGOLA AND ZIMBABWE, HAVING RECEIVED THE PREVIOUS DAY (USD$100M) ONE HUNDRED MILLION UNITED STATES DOLLARS, CASH IN THREE DIPLOMATIC BOXES ROUTED THROUGH ZIMBABWE.\n",
            "\n",
            "MY PURPOSE OF WRITING YOU THIS LETTER IS TO SOLICIT FOR YOUR ASSISTANCE AS TO BE A COVER TO THE FUND AND ALSO COLLABORATION IN MOVING THE SAID FUND INTO YOUR BANK ACCOUNT THE SUM OF (USD$25M) TWENTY FIVE MILLION UNITED STATES DOLLARS ONLY, WHICH I DEPOSITED WITH A SECURITY COMPANY IN GHANA, IN A DIPLOMATIC BOX AS GOLDS WORTH (USD$25M) TWENTY FIVE MILLION UNITED STATES DOLLARS ONLY FOR SAFE KEEPING IN A SECURITY VAULT FOR ANY FURTHER INVESTMENT PERHAPS IN YOUR COUNTRY. \n",
            "\n",
            "YOU WERE INTRODUCED TO ME BY A RELIABLE FRIEND OF MINE WHO IS A TRAVELLER,AND ALSO A MEMBER OF CHAMBER OF COMMERCE AS A RELIABLE AND TRUSTWORTHY PERSON WHOM I CAN RELY ON AS FOREIGN PARTNER, EVEN THOUGH THE NATURE OF THE TRANSACTION WAS NOT REVEALED TO HIM FOR SECURITY REASONS.\n",
            "\n",
            "\n",
            "THE (USD$25M) WAS PART OF A PROCEEDS FROM DIAMOND TRADE MEANT FOR THE LATE PRESIDENT LAURENT KABILA WHICH WAS DELIVERED THROUGH ZIMBABWE IN DIPLOMATIC BOXES. THE BOXES WERE KEPT UNDER MY CUSTODY BEFORE THE SAD EVENT THAT TOOK THE LIFE OF (MR. PRESIDENT).THE CONFUSION THAT ENSUED AFTER THE ASSASSINATION AND THE SPORADIC SHOOTING AMONG THE FACTIONS, I HAVE TO RUN AWAY FROM THE COUNTRY FOR MY DEAR LIFE AS I AM NOT A SOLDIER BUT A CIVIL SERVANT I CROSSED RIVER CONGO TO OTHER SIDE OF CONGO LIBREVILLE FROM THERE I MOVED TO THE THIRD COUNTRY GHANA WHERE I AM PRESENTLY TAKING REFUGE. \n",
            "\n",
            "AS A MATTER OF FACT, WHAT I URGENTLY NEEDED FROM YOU IS YOUR ASSISTANCE IN MOVING THIS MONEY INTO YOUR ACCOUNT IN YOUR COUNTRY FOR INVESTMENT WITHOUT RAISING EYEBROW. FOR YOUR ASSISTANCE I WILL GIVE YOU 20% OF THE TOTAL SUM AS YOUR OWN SHARE WHEN THE MONEY GETS TO YOUR ACCOUNT, WHILE 75% WILL BE FOR ME, OF WHICH WITH YOUR KIND ADVICE I HOPE TO INVEST IN PROFITABLE VENTURE IN YOUR COUNTRY IN OTHER TO SETTLE DOWN FOR MEANINGFUL LIFE, AS I AM TIRED OF LIVING IN A WAR ENVIRONMENT. \n",
            "\n",
            "THE REMAINING 5% WILL BE USED TO OFFSET ANY COST INCURRED IN THE CAUSE OF MOVING THE MONEY TO YOUR ACCOUNT. IF THE PROPOSAL IS ACCEPTABLE TO YOU PLEASE CONTACT ME IMMEDIATELY THROUGH THE ABOVE TELEPHONE AND E-MAIL, TO ENABLE ME ARRANGE FACE TO FACE MEETING WITH YOU IN GHANA FOR THE CLEARANCE OF THE FUNDS BEFORE TRANSFRING IT TO YOUR BANK ACCOUNT AS SEEING IS BELIEVING. \n",
            "\n",
            "FINALLY, IT IS IMPORTANT ALSO THAT I LET YOU UNDERSTAND THAT THERE IS NO RISK INVOLVED WHATSOEVER AS THE MONEY HAD NO RECORD IN KINSHASA FOR IT WAS MEANT FOR THE PERSONAL USE OF (MR. PRESIDEND ) BEFORE THE NEFARIOUS INCIDENT OCCURRED, AND ALSO I HAVE ALL THE NECESSARY DOCUMENTS AS REGARDS TO THE FUNDS INCLUDING THE (CERTIFICATE OF DEPOSIT), AS I AM THE DEPOSITOR OF THE CONSIGNMENT.\n",
            "\n",
            "\n",
            "LOOKING FORWARD TO YOUR URGENT RESPONSE.\n",
            "\n",
            "YOUR SINCERELY,\n",
            "\n",
            "MR. JAMES NGOLA. \n",
            "\n",
            "\n",
            "\n",
            "\n",
            "\n",
            "\n",
            "\n",
            "\n",
            "\n",
            "\n",
            "From r  Thu Oct 31 08:11:39 2002\n",
            "Return-Path: <bensul2004nng@spinfinder.com>\n",
            "X-Sieve: cmu-sieve 2.0\n",
            "Return-Path: <bensul2004nng@spinfinder.com>\n",
            "Message-Id: <200210311310.g9VDANt24674@bloodwork.mr.itd.UM>\n",
            "From: \"Mr. Ben Suleman\" <bensul2004nng@spinfinder.com>\n",
            "Date: Thu, 31 Oct 2002 05:10:00\n",
            "To: R@M\n",
            "Subject: URGENT ASSISTANCE /RELATIONSHIP (P)\n",
            "MIME-Version: 1.0\n",
            "Content-Type: text/plain;charset=\"iso-8859-1\"\n",
            "Content-Transfer-Encoding: 7bit\n",
            "Status: O\n",
            "\n",
            "Dear Friend,\n",
            "\n",
            "I am Mr. Ben Suleman a custom officer and work as Assistant controller of the Customs and Excise department Of the Federal Ministry of Internal Affairs stationed at the Murtala Mohammed International Airport, Ikeja, Lagos-Nigeria.\n",
            "\n",
            "After the sudden death of the former Head of state of Nigeria General Sanni Abacha on June 8th 1998 his aides and immediate members of his family were arrested while trying to escape from Nigeria in a Chartered jet to Saudi Arabia with 6 trunk boxes Marked \"Diplomatic Baggage\". Acting on a tip-off as they attempted to board the Air Craft,my officials carried out a thorough search on the air craft and discovered that the 6 trunk boxes contained foreign currencies amounting to US$197,570,000.00(One Hundred and  Ninety-Seven Million Five Hundred Seventy Thousand United States Dollars).\n",
            "\n",
            "I declared only (5) five boxes to the government and withheld one (1) in my custody containing the sum of (US$30,000,000.00) Thirty Million United States Dollars Only, which has been disguised to prevent their being discovered during transportation process.Due to several media reports on the late head of state about all the money him and his co-government officials stole from our government treasury amounting\n",
            "to US$55 Billion Dollars (ref:ngrguardiannews.com) of July 2nd 1999. Even the London times of July 1998 reported that General Abacha has over US$3.Billion dollars in one account overseas. We decided to conceal this one (1)box till the situation is calm and quite on the issue. The box was thus deposited with a security company here in Nigeria and tagged as \"Precious Stones and Jewellry\" in other that its\n",
            "content will not be discovered. Now that all is calm, we (myself and two of my colleagues in the operations team) are now ready to move this box out of the country through a diplomatic arrangement which is the safest means. \n",
            "\n",
            "However as government officials the Civil Service Code of Conduct does not allow us by law to operate any foreign account or own foreign investment and the amount of money that can be found in our account\n",
            "cannot be more than our salary on the average, thus our handicapp and our need for your assistance to help collect and keep safely in your account this money.\n",
            "\n",
            "Therefore we want you to assist us in moving this money out of Nigeria. We shall definitely compensate you handsomely for the assistance. We can do this by instructing the Security Company here in Nigeria to\n",
            "move the consignment to their affiliate branch office outside Nigeria through diplomatic means and the consignment will be termed as Precious Stones and Jewelleries\" which you bought during your visit to Nigeria and is being transfered to your country from here for safe keeping. Then we can arrange to meet at the destination country to take the delivery of the consignment. You will thereafter open an account there and lodge the Money there and gradually instruct remittance to your Country. \n",
            "\n",
            "This business is 100% risk free for you so please treat this matter with utmost confidentiality .If you indicate your interest to assist us please just e-mail me for more Explanation on how we plan to execute the transaction.\n",
            "\n",
            "Expecting your response urgently.\n",
            "\n",
            "Best regards,\n",
            "\n",
            "Mr. Ben Suleman\n",
            "\n",
            "From r  Thu Oct 31 17:27:16 2002\n",
            "Return-Path: <obong_715@epatra.com>\n",
            "X-Sieve: cmu-sieve 2.0\n",
            "Return-Path: <obong_715@epatra.com>\n",
            "Message-Id: <200210312227.g9VMQvDj017948@bluewhale.cs.CU>\n",
            "From: \"PRINCE OBONG ELEME\" <obong_715@epatra.com>\n",
            "Reply-To: obong_715@epatra.com\n",
            "To: webmaster@aclweb.org\n",
            "Date: Thu, 31 Oct 2002 22:17:55 +0100\n",
            "Subject: GOOD DAY TO YOU\n",
            "X-Mailer: Microsoft Outlook Express 5.00.2919.6900DM\n",
            "MIME-Version: 1.0\n",
            "Content-Type: text/plain; charset=\"us-ascii\"\n",
            "Content-Transfer-Encoding: 8bit\n",
            "X-MIME-Autoconverted: from quoted-printable to 8bit by sideshowmel.si.UM id g9VMRBW20642\n",
            "Status: RO\n",
            "\n",
            "FROM HIS ROYAL MAJESTY (HRM) CROWN RULER OF ELEME KINGDOM \n",
            "CHIEF DANIEL ELEME, PHD, EZE 1 OF ELEME.E-MAIL \n",
            "ADDRESS:obong_715@epatra.com  \n",
            "\n",
            "ATTENTION:PRESIDENT,CEO Sir/ Madam. \n",
            "\n",
            "This letter might surprise you because we have met\n",
            "neither in person nor by correspondence. But I believe\n",
            "it is one day that you got to know somebody either in\n",
            "physical or through correspondence. \n",
            "\n",
            "I got your contact through discreet inquiry from the\n",
            "chambers of commerce and industry of your country on\n",
            "the net, you and your organization were revealed as\n",
            "being quite astute in private entrepreneurship, one\n",
            "has no doubt in your ability to handle a financialbusiness transaction. \n",
            "\n",
            "However, I am the first son of His Royal\n",
            "majesty,Obong.D. Eleme , and the traditional Ruler of\n",
            "Eleme Province in the oil producing area of River\n",
            "State of Nigeria. I am making this contact to you in\n",
            "respect of US$60,000,000.00 (Sixty Million United\n",
            "State Dollars), which I inherited, from my latefather. \n",
            "\n",
            "This money was accumulated from royalties paid to my\n",
            "father as compensation by the oil firms located in our\n",
            "area as a result of oil presence on our land, which\n",
            "hamper agriculture, which is our major source oflivelihood. \n",
            "\n",
            "Unfortunately my father died from protracted\n",
            "diabetes.But before his death he called my attention\n",
            "and informed me that he lodged some funds on a two\n",
            "boxes with a security firm with an open beneficiary\n",
            "status. The lodgment security code number was also\n",
            "revealed to me, he then advised me to look for a\n",
            "reliable business partner abroad, that will assist me\n",
            "in investing the money in a lucrative business as a\n",
            "result of economic instability in Nigeria. So this is\n",
            "the main reason why I am contacting you for us to move\n",
            "this money from the security firm to any Country of\n",
            "your choice for investment purpose. \n",
            "\n",
            "So I will like you to be the ultimate beneficiary, so\n",
            "that the funds can be moved in your name and\n",
            "particulars to any Country of your choice where it\n",
            "will be claimed and invested. Hence my father have had\n",
            "intimated the security firm personnel that the\n",
            "beneficiary of the box is his foreign partner whose\n",
            "particulars will be forwarded to the firm when due. \n",
            "\n",
            "But I will guide you Accordingly. As soon as the funds\n",
            "reach, I will then come over to meet you in person, so\n",
            "that we can discuss physically on investment\n",
            "potentials. Based on this assistance my Family and I\n",
            "have unanimously decided to give you 30% of the total\n",
            "money, 5% for Charity home, 10% for expenses, which\n",
            "may arise during this transaction, Fax and phone bills\n",
            "inclusive. The balance of 55% you will invest andmanaged for my Family. \n",
            "\n",
            "I hereby guarantee you that this is not government\n",
            "money, it is not drug money and it is not money from\n",
            "arms deal. Though you have to maintain high degree of\n",
            "confidentiality on this matter. I will give more\n",
            "details about the proceedings of this transaction as\n",
            "soon as I receive your favorable reply. \n",
            "\n",
            "Please reply to my Email Address:obong_715@epatra.com\n",
            "I hope this will be the beginning of a prosperous\n",
            "relationship between my family and your family. \n",
            "\n",
            "Nevertheless if you are for any reason not interested,\n",
            "kindly inform me immediately so that I will look foranother contact. \n",
            "\n",
            "I am waiting for your quick response. \n",
            "\n",
            "Yours faithfully, \n",
            "\n",
            "Prince Obong Abbot \n",
            "\n",
            "\n",
            "From r  Thu Oct 31 17:53:56 2002\n",
            "Return-Path: <obong_715@epatra.com>\n",
            "X-Sieve: cmu-sieve 2.0\n",
            "Return-Path: <obong_715@epatra.com>\n",
            "Message-Id: <200210312253.g9VMreDj018024@bluewhale.cs.CU>\n",
            "From: \"PRINCE OBONG ELEME\" <obong_715@epatra.com>\n",
            "Date: Thu, 31 Oct 2002 22:44:20\n",
            "To: webmaster@aclweb.org\n",
            "Subject: GOOD DAY TO YOU\n",
            "MIME-Version: 1.0\n",
            "Content-Type: text/plain;charset=\"iso-8859-1\"\n",
            "Content-Transfer-Encoding: 7bit\n",
            "Status: RO\n",
            "\n",
            "FROM HIS ROYAL MAJESTY (HRM) CROWN RULER OF ELEME KINGDOM \n",
            "CHIEF DANIEL ELEME, PHD, EZE 1 OF ELEME.E-MAIL \n",
            "ADDRESS:obong_715@epatra.com  \n",
            "\n",
            "ATTENTION:PRESIDENT,CEO Sir/ Madam. \n",
            "\n",
            "This letter might surprise you because we have met\n",
            "neither in person nor by correspondence. But I believe\n",
            "it is one day that you got to know somebody either in\n",
            "physical or through correspondence. \n",
            "\n",
            "I got your contact through discreet inquiry from the\n",
            "chambers of commerce and industry of your country on\n",
            "the net, you and your organization were revealed as\n",
            "being quite astute in private entrepreneurship, one\n",
            "has no doubt in your ability to handle a financialbusiness transaction. \n",
            "\n",
            "However, I am the first son of His Royal\n",
            "majesty,Obong.D. Eleme , and the traditional Ruler of\n",
            "Eleme Province in the oil producing area of River\n",
            "State of Nigeria. I am making this contact to you in\n",
            "respect of US$60,000,000.00 (Sixty Million United\n",
            "State Dollars), which I inherited, from my latefather. \n",
            "\n",
            "This money was accumulated from royalties paid to my\n",
            "father as compensation by the oil firms located in our\n",
            "area as a result of oil presence on our land, which\n",
            "hamper agriculture, which is our major source oflivelihood. \n",
            "\n",
            "Unfortunately my father died from protracted\n",
            "diabetes.But before his death he called my attention\n",
            "and informed me that he lodged some funds on a two\n",
            "boxes with a security firm with an open beneficiary\n",
            "status. The lodgment security code number was also\n",
            "revealed to me, he then advised me to look for a\n",
            "reliable business partner abroad, that will assist me\n",
            "in investing the money in a lucrative business as a\n",
            "result of economic instability in Nigeria. So this is\n",
            "the main reason why I am contacting you for us to move\n",
            "this money from the security firm to any Country of\n",
            "your choice for investment purpose. \n",
            "\n",
            "So I will like you to be the ultimate beneficiary, so\n",
            "that the funds can be moved in your name and\n",
            "particulars to any Country of your choice where it\n",
            "will be claimed and invested. Hence my father have had\n",
            "intimated the security firm personnel that the\n",
            "beneficiary of the box is his foreign partner whose\n",
            "particulars will be forwarded to the firm when due. \n",
            "\n",
            "But I will guide you Accordingly. As soon as the funds\n",
            "reach, I will then come over to meet you in person, so\n",
            "that we can discuss physically on investment\n",
            "potentials. Based on this assistance my Family and I\n",
            "have unanimously decided to give you 30% of the total\n",
            "money, 5% for Charity home, 10% for expenses, which\n",
            "may arise during this transaction, Fax and phone bills\n",
            "inclusive. The balance of 55% you will invest andmanaged for my Family. \n",
            "\n",
            "I hereby guarantee you that this is not government\n",
            "money, it is not drug money and it is not money from\n",
            "arms deal. Though you have to maintain high degree of\n",
            "confidentiality on this matter. I will give more\n",
            "details about the proceedings of this transaction as\n",
            "soon as I receive your favorable reply. \n",
            "\n",
            "Please reply to my Email Address:obong_715@epatra.com\n",
            "I hope this will be the beginning of a prosperous\n",
            "relationship between my family and your family. \n",
            "\n",
            "Nevertheless if you are for any reason not interested,\n",
            "kindly inform me immediately so that I will look foranother contact. \n",
            "\n",
            "I am waiting for your quick response. \n",
            "\n",
            "Yours faithfully, \n",
            "\n",
            "Prince Obong Eleme\n",
            "\n",
            "From r  Fri Nov  1 04:48:39 2002\n",
            "Return-Path: <m_abacha03@www.com>\n",
            "X-Sieve: cmu-sieve 2.0\n",
            "Return-Path: <m_abacha03@www.com>\n",
            "Message-Id: <200211010948.gA19mLu22932@perfectworld.mr.itd.UM>\n",
            "From: \"Maryam Abacha\" <m_abacha03@www.com>\n",
            "Reply-To: m_abacha03@www.com\n",
            "To: R@M\n",
            "Date: Fri, 1 Nov 2002 01:45:04 +0100\n",
            "Subject: I Need Your Assistance.\n",
            "X-Mailer: Microsoft Outlook Express 5.00.2919.6900 DM\n",
            "MIME-Version: 1.0\n"
          ]
        }
      ],
      "source": [
        "# Print some lines:\n",
        "for line in email_corpus[:300]:\n",
        "  print(line)\n"
      ]
    },
    {
      "cell_type": "markdown",
      "metadata": {
        "id": "u2hB83RNNFW7"
      },
      "source": [
        "### What are some relevant portions of this corpus that we may need to extract?\n",
        "- From or return email ID\n",
        "- Subject\n",
        "- The message itself\n",
        "\n",
        "### Determining the pattern for each relevant element\n",
        "- Check for newline, capitalization, symbols\n",
        "- Consider the pattern for assessing what makes an email sound like spam (\"unique opportunity\", if the sender is royalty, text in all caps, html tags in the content).\n",
        "\n",
        "<details>\n",
        "<summary><strong>Pattern for elements of each email </strong></summary>\n",
        "<ul>\n",
        "<li> Capitalized letter at the beginning of the line, followed by heading and a colon and a space </li>\n",
        "<li> Return path has all these, plus < > enclosing the email ID</li>\n",
        "</ul>\n",
        "</details>\n",
        "\n",
        "Let's try to locate all sender IDs and save them:"
      ]
    },
    {
      "cell_type": "code",
      "execution_count": 8,
      "metadata": {
        "id": "jENEKu1DSaq-"
      },
      "outputs": [],
      "source": [
        "import re\n",
        "#Look for \"From: in the beginning of the sentence\"\n",
        "# ignore everything until an angular bracket is seen\n",
        "# ignore everything after closing bracket\n",
        "\n",
        "sender_addresses = []\n",
        "for line in email_corpus:\n",
        "  pattern = r\"^[Ff]rom:.+<(.+?)>\"\n",
        "  match = re.search(pattern, line)\n",
        "  if match:\n",
        "      sender_addresses.append(match.group(1))\n",
        "# print(sender_addresses)\n",
        "# print(len(sender_addresses))"
      ]
    },
    {
      "cell_type": "markdown",
      "metadata": {
        "id": "ZOPjqlPZfGJp"
      },
      "source": [
        "Try extracting the subject of emails. You can use the code above.\n",
        "\n"
      ]
    },
    {
      "cell_type": "code",
      "execution_count": 9,
      "metadata": {
        "id": "eWtVXhk4fFS9"
      },
      "outputs": [],
      "source": [
        "## Add your code here"
      ]
    },
    {
      "cell_type": "markdown",
      "metadata": {
        "id": "nIEIdjxlf97S"
      },
      "source": [
        "How about exploring the various salutations?"
      ]
    },
    {
      "cell_type": "code",
      "source": [
        "# How many times does an email begin with \"dear\", or \"attention\"?\n",
        "\n",
        "salutations = []\n",
        "for line in email_corpus:\n",
        "  pattern = r\"(^dear\\s|attention\\s)\"\n",
        "  match = re.search(pattern, line, re.IGNORECASE)\n",
        "  if match:\n",
        "      salutations.append(match.group(1))\n",
        "print(len(salutations))"
      ],
      "metadata": {
        "id": "0-_WmKONRuUh",
        "colab": {
          "base_uri": "https://localhost:8080/"
        },
        "outputId": "03aa10e7-c47f-45a6-a81f-ff678869e2ea"
      },
      "execution_count": 10,
      "outputs": [
        {
          "output_type": "stream",
          "name": "stdout",
          "text": [
            "2074\n"
          ]
        }
      ]
    },
    {
      "cell_type": "markdown",
      "source": [
        "How would you examine the email contents for weird elements?\n",
        "- Text in all caps\n",
        "- HTML tags in the text\n",
        "- strings containing non-alphanumeric symbols"
      ],
      "metadata": {
        "id": "Z_An3DYWy_nn"
      }
    },
    {
      "cell_type": "code",
      "source": [
        "## Add your code here"
      ],
      "metadata": {
        "id": "W-Q7GW8lzEdP"
      },
      "execution_count": 11,
      "outputs": []
    },
    {
      "cell_type": "markdown",
      "source": [
        "<details>\n",
        "<summary><strong>How difficult would it be to extract the email body from this dataset?  </strong></summary>\n",
        "\n",
        "Consider the following regular expression that extracts all the content that is between a \"Status:...\" line, and the next \"From r...\" line, which woughly corresponds to the body of the email.\n",
        "```\n",
        "# code for extracting email body:\n",
        "pattern = r\"Status:\\s+O\\n+(.*?)(?=\\nFrom:|$)\"\n",
        "matches = re.findall(pattern, req.text, re.DOTALL)\n",
        "\n",
        "print(matches[2])\n",
        "print(\"number of matches for email body: \",len(matches))\n",
        "```\n",
        "To get a sense of challenge of this NLP task, let us examine how complex this regex task is. Read different outputs, and compare how many matches this returned, vs number of actual emails (how would be get a sense of that number?).\n",
        "\n",
        "At their core language models have been working on problems such as this one, that now, they can generate regular expressions with simple prompts!\n",
        "\n",
        "\n",
        "</details>\n",
        "\n"
      ],
      "metadata": {
        "id": "gJORhqj5TKEQ"
      }
    },
    {
      "cell_type": "markdown",
      "metadata": {
        "id": "HjAs8MsRCCz1"
      },
      "source": [
        "## Further reading and resources\n",
        "- Regex Cookbook\n",
        "- Platforms\n",
        "- Regex crossword\n",
        "- [Learn Regex: A Beginner’s Guide](https://www.sitepoint.com/learn-regex/)\n",
        "-  [RegexOne: Learn Regular Expressions with simple, interactive exercises](https://www.regexone.com/)"
      ]
    }
  ],
  "metadata": {
    "colab": {
      "provenance": [],
      "toc_visible": true,
      "authorship_tag": "ABX9TyMzbvkHM35/KJtNwBx1YDUO",
      "include_colab_link": true
    },
    "kernelspec": {
      "display_name": "Python 3",
      "name": "python3"
    },
    "language_info": {
      "name": "python"
    }
  },
  "nbformat": 4,
  "nbformat_minor": 0
}