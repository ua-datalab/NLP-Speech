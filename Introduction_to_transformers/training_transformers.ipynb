{
  "nbformat": 4,
  "nbformat_minor": 0,
  "metadata": {
    "colab": {
      "provenance": [],
      "include_colab_link": true
    },
    "kernelspec": {
      "name": "python3",
      "display_name": "Python 3"
    },
    "language_info": {
      "name": "python"
    },
  },
  "cells": [
    {
      "cell_type": "markdown",
      "metadata": {
        "id": "view-in-github",
        "colab_type": "text"
      },
      "source": [
        "<a href=\"https://colab.research.google.com/github/ua-datalab/NLP-Speech/blob/main/Introduction_to_transformers/training_transformers.ipynb\" target=\"_parent\"><img src=\"https://colab.research.google.com/assets/colab-badge.svg\" alt=\"Open In Colab\"/></a>"
      ]
    },
    {
      "cell_type": "markdown",
      "source": [
        "# Introduction to Transformers\n",
        "\n",
        "![alt text](https://www.sky.de/static/img/filmhighlights/sky_25-03_transformer-one_hero_s.jpg)"
      ],
      "metadata": {
        "id": "IqL2Gj7NaqtR"
      }
    },
    {
      "cell_type": "markdown",
      "source": [
        "## Slide deck: https://docs.google.com/presentation/d/1mL4ygUlKjNWPSqCiG9GqIQ4iCATj_JuGYfv0xw6VEvM/edit?usp=sharing\n",
        "\n",
        "\n"
      ],
      "metadata": {
        "id": "Jt845bjOgsry"
      }
    },
    {
      "cell_type": "markdown",
      "source": [
        "# Let’s train some transformers:"
      ],
      "metadata": {
        "id": "h6N62Aqjb0_x"
      }
    },
    {
      "cell_type": "code",
      "source": [
        "pip install transformers"
      ],
      "metadata": {
        "id": "kBYT299Je_wk"
      },
      "execution_count": null,
      "outputs": []
    },
    {
      "cell_type": "code",
      "source": [
        "from transformers import pipeline\n",
        "\n",
        "classifier = pipeline(\"sentiment-analysis\")\n",
        "classifier(\n",
        "    [\n",
        "        \"I've been waiting for a HuggingFace course my whole life.\",\n",
        "        \"I hate this so much!\",\n",
        "    ]\n",
        ")"
      ],
      "metadata": {
        "id": "JZdn9IJwf39r"
      },
      "execution_count": null,
      "outputs": []
    },
    {
      "cell_type": "code",
      "source": [
        "tokenized_text = \"This movie was really scary\".split()\n",
        "print(tokenized_text)"
      ],
      "metadata": {
        "id": "UqpoBeVff3z2",
        "colab": {
          "base_uri": "https://localhost:8080/"
        },
        "outputId": "6c7f6ef8-03a0-40c1-f451-57a7144ae581"
      },
      "execution_count": null,
      "outputs": [
        {
          "output_type": "stream",
          "name": "stdout",
          "text": [
            "['This', 'movie', 'was', 'really', 'scary']\n"
          ]
        }
      ]
    },
    {
      "cell_type": "code",
      "execution_count": null,
      "metadata": {
        "id": "8__EK2Fbe-mb",
        "colab": {
          "base_uri": "https://localhost:8080/",
          "height": 113,
          "referenced_widgets": [
            "cb937f8496cc4f5c9d579ec430b01ae8",
            "4321c4faf97b4ec4bc8068cf59fe322e",
            "d82744542edd4c39a55efacd98d71e20",
            "33d31e275d714c86a468247ea6721f45",
            "408c98652b19424696e775dab79af665",
            "20b5c2953d9648aab019d91c64d24baa",
            "e05e366b31024b97b809118e92d93672",
            "15e51353278b4bb3bb8e59e64b684eaf",
            "598e5e3338174e5f9c44d42420bdeeb7",
            "fb523daf546641208a10cdc281d3de6f",
            "3b2f005b22ef437387f5a434147ab49b",
            "cb6edcd1b0cd43a7b0e5e9ba54a62eeb",
            "f312df35e4c445fc999405f689c2d599",
            "725787f9544240cb800f2f21c03693e9",
            "953d5ef39bf747ffa8a6cbfceff966e0",
            "10cdd5a1384c4bd99cd91cb74e5ac6ea",
            "a68e034fbf2c4866b391f4620582135d",
            "66c87a0693fe471ba8546140dcab1784",
            "b4d432b5b65440fc84f079d135848bd5",
            "1b77e19f47db4a09a5715a5dcf80bea3",
            "c049c0765d24449fa2046a241da3bf8a",
            "70eb397e880544edab225957fb9ec8d3",
            "15e81a9b5dd140d996fbe3635b3410ee",
            "7a0d76db6424481e8ddca7c7b1c38310",
            "f1c412a5956a475897169d53ea349226",
            "6da99360f2474a34b7320f490bcd2aad",
            "12022e007cc24688b357957165d83b7f",
            "7c867d49037848d88e58104b1c12577d",
            "ea85cd5f46e54f4290a999ad868dcd9b",
            "c7eefa62dd3c4e549633045adaaae8ca",
            "f28afc497d1546e897494f2334a1e08b",
            "ca701d912ebb474380907d07cd751f04",
            "ddc58fc53c404ee8b99a088382f9fa72"
          ]
        },
        "outputId": "f080c1ec-5185-4eda-c8d8-74eba20d8bd0"
      },
      "outputs": [
        {
          "output_type": "display_data",
          "data": {
            "text/plain": [
              "tokenizer_config.json:   0%|          | 0.00/48.0 [00:00<?, ?B/s]"
            ],
            "application/vnd.jupyter.widget-view+json": {
              "version_major": 2,
              "version_minor": 0,
              "model_id": "cb937f8496cc4f5c9d579ec430b01ae8"
            }
          },
          "metadata": {}
        },
        {
          "output_type": "display_data",
          "data": {
            "text/plain": [
              "config.json:   0%|          | 0.00/629 [00:00<?, ?B/s]"
            ],
            "application/vnd.jupyter.widget-view+json": {
              "version_major": 2,
              "version_minor": 0,
              "model_id": "cb6edcd1b0cd43a7b0e5e9ba54a62eeb"
            }
          },
          "metadata": {}
        },
        {
          "output_type": "display_data",
          "data": {
            "text/plain": [
              "vocab.txt:   0%|          | 0.00/232k [00:00<?, ?B/s]"
            ],
            "application/vnd.jupyter.widget-view+json": {
              "version_major": 2,
              "version_minor": 0,
              "model_id": "15e81a9b5dd140d996fbe3635b3410ee"
            }
          },
          "metadata": {}
        }
      ],
      "source": [
        "from transformers import AutoTokenizer\n",
        "\n",
        "checkpoint = \"distilbert-base-uncased-finetuned-sst-2-english\"\n",
        "tokenizer = AutoTokenizer.from_pretrained(checkpoint)"
      ]
    },
    {
      "cell_type": "code",
      "source": [
        "raw_inputs = [\n",
        "    \"I've been waiting for a HuggingFace course my whole life.\",\n",
        "    \"I hate this so much!\",\n",
        "]\n",
        "inputs = tokenizer(raw_inputs, padding=True, truncation=True, return_tensors=\"pt\")\n",
        "print(inputs)"
      ],
      "metadata": {
        "id": "mrEVBqmrfH3y",
        "colab": {
          "base_uri": "https://localhost:8080/"
        },
        "outputId": "8e648df5-bb7c-4896-c186-d6f5930f4f01"
      },
      "execution_count": null,
      "outputs": [
        {
          "output_type": "stream",
          "name": "stdout",
          "text": [
            "{'input_ids': tensor([[  101,  1045,  1005,  2310,  2042,  3403,  2005,  1037, 17662, 12172,\n",
            "          2607,  2026,  2878,  2166,  1012,   102],\n",
            "        [  101,  1045,  5223,  2023,  2061,  2172,   999,   102,     0,     0,\n",
            "             0,     0,     0,     0,     0,     0]]), 'attention_mask': tensor([[1, 1, 1, 1, 1, 1, 1, 1, 1, 1, 1, 1, 1, 1, 1, 1],\n",
            "        [1, 1, 1, 1, 1, 1, 1, 1, 0, 0, 0, 0, 0, 0, 0, 0]])}\n"
          ]
        }
      ]
    },
    {
      "cell_type": "code",
      "source": [
        "from transformers import AutoModel\n",
        "\n",
        "checkpoint = \"distilbert-base-uncased-finetuned-sst-2-english\"\n",
        "model = AutoModel.from_pretrained(checkpoint)"
      ],
      "metadata": {
        "id": "DJA6-szBfLfG",
        "colab": {
          "base_uri": "https://localhost:8080/",
          "height": 49,
          "referenced_widgets": [
            "f3ccc7e8f2294bde91276373c06c3d88",
            "36c5dd78ee6b48049e3ab07a5728870f",
            "5267452aca3042309c969720314a54a9",
            "79d04fa0639d41e5bfb334f5d66bdc3e",
            "dc7cdd65591c4c01984008bbadc195ab",
            "f9f3de59cf8f4e5b884299cad8592d65",
            "815edc7985c745ee87da3c6513b7aec8",
            "d226a44c276141b18d1edf7d39849c86",
            "d3b57503939e46d49ccadd13b270bb52",
            "5e36bb6610814a87be5e149071516c38",
            "deeff7a18e4c4bc8b38649198f7696c6"
          ]
        },
        "outputId": "3f4bbac8-3f2a-4610-9861-0c8d9bec8a39"
      },
      "execution_count": null,
      "outputs": [
        {
          "output_type": "display_data",
          "data": {
            "text/plain": [
              "model.safetensors:   0%|          | 0.00/268M [00:00<?, ?B/s]"
            ],
            "application/vnd.jupyter.widget-view+json": {
              "version_major": 2,
              "version_minor": 0,
              "model_id": "f3ccc7e8f2294bde91276373c06c3d88"
            }
          },
          "metadata": {}
        }
      ]
    },
    {
      "cell_type": "code",
      "source": [
        "outputs = model(**inputs)\n",
        "print(outputs.last_hidden_state.shape)"
      ],
      "metadata": {
        "id": "z6GDy8ZQfNe6",
        "colab": {
          "base_uri": "https://localhost:8080/"
        },
        "outputId": "e24b33fa-f913-4f07-cab7-c69cba7f2205"
      },
      "execution_count": null,
      "outputs": [
        {
          "output_type": "stream",
          "name": "stdout",
          "text": [
            "torch.Size([2, 16, 768])\n"
          ]
        }
      ]
    },
    {
      "cell_type": "code",
      "source": [
        "from transformers import AutoModelForSequenceClassification\n",
        "\n",
        "checkpoint = \"distilbert-base-uncased-finetuned-sst-2-english\"\n",
        "model = AutoModelForSequenceClassification.from_pretrained(checkpoint)\n",
        "outputs = model(**inputs)"
      ],
      "metadata": {
        "id": "5aXzFB2wfVRG"
      },
      "execution_count": null,
      "outputs": []
    },
    {
      "cell_type": "code",
      "source": [
        "print(outputs.logits.shape)\n",
        "print(outputs.logits)"
      ],
      "metadata": {
        "id": "0F1P0I2nfYqj",
        "colab": {
          "base_uri": "https://localhost:8080/"
        },
        "outputId": "45f1ddd6-81c2-40b9-d8c4-fef3b37ad232"
      },
      "execution_count": null,
      "outputs": [
        {
          "output_type": "stream",
          "name": "stdout",
          "text": [
            "torch.Size([2, 2])\n",
            "tensor([[-1.5607,  1.6123],\n",
            "        [ 4.1692, -3.3464]], grad_fn=<AddmmBackward0>)\n"
          ]
        }
      ]
    },
    {
      "cell_type": "code",
      "source": [
        "import torch\n",
        "\n",
        "predictions = torch.nn.functional.softmax(outputs.logits, dim=-1)\n",
        "print(predictions)\n"
      ],
      "metadata": {
        "id": "Hsk00SO0fiVD",
        "colab": {
          "base_uri": "https://localhost:8080/"
        },
        "outputId": "705512c0-0065-49c5-d6f2-8366d0769ac0"
      },
      "execution_count": null,
      "outputs": [
        {
          "output_type": "stream",
          "name": "stdout",
          "text": [
            "tensor([[4.0195e-02, 9.5980e-01],\n",
            "        [9.9946e-01, 5.4418e-04]], grad_fn=<SoftmaxBackward0>)\n"
          ]
        }
      ]
    },
    {
      "cell_type": "code",
      "source": [
        "model.config.id2label"
      ],
      "metadata": {
        "id": "ITcyKYijflgL",
        "colab": {
          "base_uri": "https://localhost:8080/"
        },
        "outputId": "9472a583-2d49-4d57-b36d-643b9f0498a8"
      },
      "execution_count": null,
      "outputs": [
        {
          "output_type": "execute_result",
          "data": {
            "text/plain": [
              "{0: 'NEGATIVE', 1: 'POSITIVE'}"
            ]
          },
          "metadata": {},
          "execution_count": 11
        }
      ]
    },
    {
      "cell_type": "code",
      "source": [
        "out=predictions.tolist()\n",
        "\n",
        "print(raw_inputs)\n",
        "for i,row in enumerate(out):\n",
        "  index=row.index(max(row))\n",
        "  print(model.config.id2label[index])\n"
      ],
      "metadata": {
        "id": "h_s9igjTo6xV",
        "colab": {
          "base_uri": "https://localhost:8080/"
        },
        "outputId": "a031eb29-2d13-4155-9971-54d276a2d242"
      },
      "execution_count": null,
      "outputs": [
        {
          "output_type": "stream",
          "name": "stdout",
          "text": [
            "[\"I've been waiting for a HuggingFace course my whole life.\", 'I hate this so much!']\n",
            "POSITIVE\n",
            "NEGATIVE\n"
          ]
        }
      ]
    },
    {
      "cell_type": "code",
      "source": [
        "from transformers import pipeline, set_seed\n",
        "generator = pipeline('text-generation', model='openai-gpt')\n",
        "set_seed(42)\n",
        "generator(\"Hello, I'm a language model,\", max_length=30, num_return_sequences=5)\n"
      ],
      "metadata": {
        "colab": {
          "base_uri": "https://localhost:8080/",
          "height": 386,
          "referenced_widgets": [
            "f3595b8fc4d345a18a89cdd44d9a5488",
            "334c6dec28394a7ab8d5901fada20c29",
            "d753d84bb5db47339b8f6bec0b2484e3",
            "b562cafeddef48e6885e20f1e3aea02b",
            "caf742dcfcf34ed1b72b8bce7775bcb3",
            "dbf1c21b617d45ec8f0a606fac3eafdd",
            "715966c0316b4947878f45a6928fe25d",
            "7074bebb13f5447ca2bfafdaa35eba27",
            "af7ce864ebb44b95b61049c2501c5232",
            "ab7b4e7b02d54c2784414be4ff291bf4",
            "fa8f8abb67cb45e0bf88b13ab2b30309",
            "5bff1a3d9daf44ec828eaf3039b2ab80",
            "9b0be2595393417fbb50c98307d21315",
            "f74035c483b54ef18f3ea3b213fdfd47",
            "db794a5c0fd44867a85b811212fc800d",
            "4d489d9aca334904bbdfcc802763357a",
            "63b9d7c5ac1d464b86850ec29f5b2792",
            "afc8de80c17447e79ab28ca291240985",
            "c5bb8891cc0849db93d4fbcb04ca0561",
            "2d2c473a0092428c90cfe3619cffe1d6",
            "5493cedac8e1460283f523975019d06b",
            "eef364af903c45ff901961c06f871409",
            "d959dd95aaa6434bb3e9e38f6ac161c8",
            "eee81ddd99e64eefae52e4cc25dafd9a",
            "902bacea1e104c4b8c3dec2280472c36",
            "f1bfb27ca84d4ecc87d34eede85e7b74",
            "c289c7cc56174791b4795a12b7de6b05",
            "dc13111c1da84699b52bb728d46b2deb",
            "addfc6bb256f42aa8189769e39bfece5",
            "8cb2503fa9c24b49aa36290ba7ebc65a",
            "bbe4b98aa25c4a97992b3297001df7a3",
            "e3c67366448b469c8c8a7e4f928b76bb",
            "f7033db0d3c84459ae7534f484776c24",
            "ec91c7eb5cc64eff84cd19db792a3f12",
            "cef41eb158254bc794591808c5a6596a",
            "b310a6e6b2f448798699db5dc2577629",
            "b545041577c24e239c59d75273197851",
            "3fa6ca40897e49cdb405dee0a8ce07c5",
            "2c5cdc7e97b84f4ea2ec34ebad60cec8",
            "64616c40c33842ee9e3cb60f4980c377",
            "333e392e78ea43c59ac2276ae58b7969",
            "49c430ac22984701aee2630fe3ac6041",
            "17531a5245534bd2b188f97431d3bcb9",
            "343a2e5287234381a67c8fe39737cf23",
            "3cc22bde4a6e45e48ff9bcb69dc7a3be",
            "2875ecbea9dc4a3f8076f6e250b28e89",
            "e2fbd21968e04e0895719f446f0288cb",
            "e92786baadb548a8817734eb962957bd",
            "3f1a5b1c50174066afc7837140602ec4",
            "8b101db3ec0443d5b1f42f25fcc08c95",
            "40468ade40f342138a7dbfb926f4f8fd",
            "f0bd32afb8bf41688dfb942a0c2bda1d",
            "a60439fc75a34dbb897e23fb26fecf8b",
            "d19eb319108f4ab9aee00dbf35c7fbc6",
            "2918b88fac2a4996a1431b1742fbfba2",
            "bcb57710056f439f9c002dde02ee027e",
            "a8a22ad783a24a7dacd8e6f91817484a",
            "7f740f61477f41988c4203085ec95fc7",
            "4c764333e6214358ac470baa34faf34d",
            "efcf6342215249d6a7109760c5bfdbcb",
            "399e9577de9b4192844899ac52048d3b",
            "af8c5a39fe754e44894a600a88111262",
            "191dc8bcfb7d4c05a888c01e9e961610",
            "55ca13f691194a64bb369a7feb099108",
            "3dec8aaf6d3444b18489513edf07086e",
            "ea2af15639fb49a680fda176cb82072d",
            "71adaa63654f4e749d50cd931cd0a7d4",
            "19768d3579ed4e47aa0414dab1e63383",
            "356f4315460340678998bc57ddb8794f",
            "3696bede119d4f8a99021ff980803d3f",
            "e48b76e28e1d47f6aa51cb7355e13d89",
            "899215e2d9be455bbf95926f2d6f2500",
            "44f2db4ebcfe4088bfa479b3da063f93",
            "f5fa21d63f9b41ac8d54e3f2ff1c808c",
            "1214fd1f73854933916a76379c246631",
            "35dfc8ea6346471f984cc34249c83225",
            "a29c1748beb944bdb198453321f889e2"
          ]
        },
        "id": "iNdTnvw-mUzy",
        "outputId": "5ff0b1b3-1eed-4787-d95c-f9f109b416bd"
      },
      "execution_count": null,
      "outputs": [
        {
          "output_type": "display_data",
          "data": {
            "text/plain": [
              "config.json:   0%|          | 0.00/656 [00:00<?, ?B/s]"
            ],
            "application/vnd.jupyter.widget-view+json": {
              "version_major": 2,
              "version_minor": 0,
              "model_id": "f3595b8fc4d345a18a89cdd44d9a5488"
            }
          },
          "metadata": {}
        },
        {
          "output_type": "display_data",
          "data": {
            "text/plain": [
              "model.safetensors:   0%|          | 0.00/479M [00:00<?, ?B/s]"
            ],
            "application/vnd.jupyter.widget-view+json": {
              "version_major": 2,
              "version_minor": 0,
              "model_id": "5bff1a3d9daf44ec828eaf3039b2ab80"
            }
          },
          "metadata": {}
        },
        {
          "output_type": "display_data",
          "data": {
            "text/plain": [
              "generation_config.json:   0%|          | 0.00/74.0 [00:00<?, ?B/s]"
            ],
            "application/vnd.jupyter.widget-view+json": {
              "version_major": 2,
              "version_minor": 0,
              "model_id": "d959dd95aaa6434bb3e9e38f6ac161c8"
            }
          },
          "metadata": {}
        },
        {
          "output_type": "display_data",
          "data": {
            "text/plain": [
              "tokenizer_config.json:   0%|          | 0.00/25.0 [00:00<?, ?B/s]"
            ],
            "application/vnd.jupyter.widget-view+json": {
              "version_major": 2,
              "version_minor": 0,
              "model_id": "ec91c7eb5cc64eff84cd19db792a3f12"
            }
          },
          "metadata": {}
        },
        {
          "output_type": "display_data",
          "data": {
            "text/plain": [
              "vocab.json:   0%|          | 0.00/816k [00:00<?, ?B/s]"
            ],
            "application/vnd.jupyter.widget-view+json": {
              "version_major": 2,
              "version_minor": 0,
              "model_id": "3cc22bde4a6e45e48ff9bcb69dc7a3be"
            }
          },
          "metadata": {}
        },
        {
          "output_type": "display_data",
          "data": {
            "text/plain": [
              "merges.txt:   0%|          | 0.00/458k [00:00<?, ?B/s]"
            ],
            "application/vnd.jupyter.widget-view+json": {
              "version_major": 2,
              "version_minor": 0,
              "model_id": "bcb57710056f439f9c002dde02ee027e"
            }
          },
          "metadata": {}
        },
        {
          "output_type": "display_data",
          "data": {
            "text/plain": [
              "tokenizer.json:   0%|          | 0.00/1.27M [00:00<?, ?B/s]"
            ],
            "application/vnd.jupyter.widget-view+json": {
              "version_major": 2,
              "version_minor": 0,
              "model_id": "71adaa63654f4e749d50cd931cd0a7d4"
            }
          },
          "metadata": {}
        },
        {
          "output_type": "stream",
          "name": "stderr",
          "text": [
            "Device set to use cpu\n",
            "Truncation was not explicitly activated but `max_length` is provided a specific value, please use `truncation=True` to explicitly truncate examples to max length. Defaulting to 'longest_first' truncation strategy. If you encode pairs of sequences (GLUE-style) with the tokenizer you can select this strategy more precisely by providing a specific strategy to `truncation`.\n"
          ]
        },
        {
          "output_type": "execute_result",
          "data": {
            "text/plain": [
              "[{'generated_text': \"Hello, I'm a language model, for'e's a very big one. they call me'e'n e'n''\"},\n",
              " {'generated_text': 'Hello, I\\'m a language model, \" he said and leaned his left shoulder against the corner of the door. \\n i couldn\\'t take my'},\n",
              " {'generated_text': \"Hello, I'm a language model,'came their reply. \\n'it's a man thing! if you have three hundred thousand words,\"},\n",
              " {'generated_text': 'Hello, I\\'m a language model, \" he said, the sound of his voice sending a shiver down her spine. \\n \" a language model'},\n",
              " {'generated_text': \"Hello, I'm a language model,'he said.'you call me a'man out'in... well, er, in the\"}]"
            ]
          },
          "metadata": {},
          "execution_count": 13
        }
      ]
    },
    {
      "cell_type": "code",
      "source": [
        "!pip install spacy ftfy"
      ],
      "metadata": {
        "id": "bvSCLHo9mzS6"
      },
      "execution_count": null,
      "outputs": []
    },
    {
      "cell_type": "code",
      "source": [
        "from transformers import OpenAIGPTTokenizer, OpenAIGPTModel\n",
        "import torch\n",
        "\n",
        "tokenizer = OpenAIGPTTokenizer.from_pretrained(\"openai-gpt\")\n",
        "model = OpenAIGPTModel.from_pretrained(\"openai-gpt\")\n",
        "\n",
        "inputs = tokenizer(\"Hello, my dog is cute\", return_tensors=\"pt\")\n",
        "outputs = model(**inputs)\n",
        "\n",
        "last_hidden_states = outputs.last_hidden_state\n",
        "print(last_hidden_states)\n"
      ],
      "metadata": {
        "colab": {
          "base_uri": "https://localhost:8080/"
        },
        "id": "yWmKl3lgmXNN",
        "outputId": "4a37ce36-db07-42e5-e023-a2348b3a0c2d"
      },
      "execution_count": null,
      "outputs": [
        {
          "output_type": "stream",
          "name": "stdout",
          "text": [
            "tensor([[[ 0.4653,  0.0642,  0.5910,  ...,  0.1177, -0.0021, -1.2262],\n",
            "         [-0.3697, -0.0957,  0.6613,  ..., -0.0344, -0.2164,  0.1205],\n",
            "         [ 0.1700, -0.3252,  0.0407,  ...,  0.1589, -0.8057, -0.2830],\n",
            "         [-0.3669, -0.0448,  0.8061,  ..., -0.0090, -0.0872, -0.5224],\n",
            "         [-0.5047,  0.6522,  0.6932,  ...,  0.0811,  0.6475,  0.3190],\n",
            "         [-0.2972,  0.0591,  1.2333,  ..., -0.7394, -0.2600,  0.0863]]],\n",
            "       grad_fn=<ViewBackward0>)\n"
          ]
        }
      ]
    },
    {
      "cell_type": "code",
      "source": [
        "from transformers import OpenAIGPTTokenizer, TFOpenAIGPTModel\n",
        "\n",
        "tokenizer = OpenAIGPTTokenizer.from_pretrained(\"openai-gpt\")\n",
        "model = TFOpenAIGPTModel.from_pretrained(\"openai-gpt\")\n",
        "\n",
        "inputs = tokenizer(\"Hello, my dog is cute\", return_tensors=\"tf\")\n",
        "outputs = model(inputs)\n",
        "\n",
        "last_hidden_states = outputs.last_hidden_state\n",
        "print(last_hidden_states)\n"
      ],
      "metadata": {
        "id": "N2MJsrwRmZVL"
      },
      "execution_count": null,
      "outputs": []
    }
  ]
}
